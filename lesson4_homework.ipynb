{
 "cells": [
  {
   "cell_type": "code",
   "execution_count": 5,
   "metadata": {},
   "outputs": [],
   "source": [
    "# make sure to install the latest version of sigmoid_check with pip install sigmoid_check==0.1.3\n",
    "from sigmoid_check.excalibur import *"
   ]
  },
  {
   "cell_type": "code",
   "execution_count": 4,
   "metadata": {},
   "outputs": [
    {
     "name": "stdout",
     "output_type": "stream",
     "text": [
      "Collecting sigmoid_check==0.1.3\n",
      "  Using cached sigmoid_check-0.1.3-py3-none-any.whl.metadata (3.1 kB)\n",
      "Collecting numpy>=2.0.0 (from sigmoid_check==0.1.3)\n",
      "  Downloading numpy-2.1.3-cp310-cp310-win_amd64.whl.metadata (60 kB)\n",
      "     ---------------------------------------- 0.0/60.8 kB ? eta -:--:--\n",
      "     -------------------- ------------------- 30.7/60.8 kB 1.3 MB/s eta 0:00:01\n",
      "     -------------------------------------- 60.8/60.8 kB 648.8 kB/s eta 0:00:00\n",
      "Using cached sigmoid_check-0.1.3-py3-none-any.whl (60 kB)\n",
      "Downloading numpy-2.1.3-cp310-cp310-win_amd64.whl (12.9 MB)\n",
      "   ---------------------------------------- 0.0/12.9 MB ? eta -:--:--\n",
      "   ---------------------------------------- 0.1/12.9 MB 3.2 MB/s eta 0:00:05\n",
      "   ---------------------------------------- 0.1/12.9 MB 1.3 MB/s eta 0:00:10\n",
      "   ---------------------------------------- 0.2/12.9 MB 1.0 MB/s eta 0:00:13\n",
      "    --------------------------------------- 0.3/12.9 MB 1.4 MB/s eta 0:00:09\n",
      "   - -------------------------------------- 0.5/12.9 MB 2.0 MB/s eta 0:00:07\n",
      "   -- ------------------------------------- 0.7/12.9 MB 2.5 MB/s eta 0:00:05\n",
      "   -- ------------------------------------- 1.0/12.9 MB 2.9 MB/s eta 0:00:05\n",
      "   --- ------------------------------------ 1.2/12.9 MB 3.3 MB/s eta 0:00:04\n",
      "   ---- ----------------------------------- 1.5/12.9 MB 3.4 MB/s eta 0:00:04\n",
      "   ----- ---------------------------------- 1.7/12.9 MB 3.7 MB/s eta 0:00:04\n",
      "   ------ --------------------------------- 2.0/12.9 MB 3.8 MB/s eta 0:00:03\n",
      "   ------- -------------------------------- 2.3/12.9 MB 4.0 MB/s eta 0:00:03\n",
      "   ------- -------------------------------- 2.5/12.9 MB 4.1 MB/s eta 0:00:03\n",
      "   -------- ------------------------------- 2.8/12.9 MB 4.2 MB/s eta 0:00:03\n",
      "   --------- ------------------------------ 3.0/12.9 MB 4.2 MB/s eta 0:00:03\n",
      "   ---------- ----------------------------- 3.3/12.9 MB 4.4 MB/s eta 0:00:03\n",
      "   ---------- ----------------------------- 3.5/12.9 MB 4.4 MB/s eta 0:00:03\n",
      "   ----------- ---------------------------- 3.8/12.9 MB 4.5 MB/s eta 0:00:03\n",
      "   ------------ --------------------------- 4.1/12.9 MB 4.6 MB/s eta 0:00:02\n",
      "   ------------- -------------------------- 4.3/12.9 MB 4.6 MB/s eta 0:00:02\n",
      "   -------------- ------------------------- 4.6/12.9 MB 4.7 MB/s eta 0:00:02\n",
      "   --------------- ------------------------ 4.8/12.9 MB 4.7 MB/s eta 0:00:02\n",
      "   --------------- ------------------------ 5.0/12.9 MB 4.7 MB/s eta 0:00:02\n",
      "   ---------------- ----------------------- 5.2/12.9 MB 4.6 MB/s eta 0:00:02\n",
      "   ----------------- ---------------------- 5.5/12.9 MB 4.7 MB/s eta 0:00:02\n",
      "   ----------------- ---------------------- 5.7/12.9 MB 4.6 MB/s eta 0:00:02\n",
      "   ------------------ --------------------- 5.9/12.9 MB 4.6 MB/s eta 0:00:02\n",
      "   ------------------- -------------------- 6.1/12.9 MB 4.6 MB/s eta 0:00:02\n",
      "   ------------------- -------------------- 6.4/12.9 MB 4.6 MB/s eta 0:00:02\n",
      "   -------------------- ------------------- 6.7/12.9 MB 4.7 MB/s eta 0:00:02\n",
      "   --------------------- ------------------ 6.9/12.9 MB 4.7 MB/s eta 0:00:02\n",
      "   ---------------------- ----------------- 7.2/12.9 MB 4.7 MB/s eta 0:00:02\n",
      "   ---------------------- ----------------- 7.4/12.9 MB 4.7 MB/s eta 0:00:02\n",
      "   ----------------------- ---------------- 7.5/12.9 MB 4.7 MB/s eta 0:00:02\n",
      "   ------------------------ --------------- 7.7/12.9 MB 4.7 MB/s eta 0:00:02\n",
      "   ------------------------ --------------- 7.8/12.9 MB 4.6 MB/s eta 0:00:02\n",
      "   ------------------------- -------------- 8.1/12.9 MB 4.6 MB/s eta 0:00:02\n",
      "   ------------------------- -------------- 8.4/12.9 MB 4.6 MB/s eta 0:00:01\n",
      "   -------------------------- ------------- 8.6/12.9 MB 4.6 MB/s eta 0:00:01\n",
      "   --------------------------- ------------ 8.8/12.9 MB 4.7 MB/s eta 0:00:01\n",
      "   ---------------------------- ----------- 9.1/12.9 MB 4.7 MB/s eta 0:00:01\n",
      "   ----------------------------- ---------- 9.4/12.9 MB 4.7 MB/s eta 0:00:01\n",
      "   ----------------------------- ---------- 9.6/12.9 MB 4.7 MB/s eta 0:00:01\n",
      "   ------------------------------ --------- 9.9/12.9 MB 4.7 MB/s eta 0:00:01\n",
      "   ------------------------------- -------- 10.2/12.9 MB 4.8 MB/s eta 0:00:01\n",
      "   -------------------------------- ------- 10.4/12.9 MB 5.0 MB/s eta 0:00:01\n",
      "   --------------------------------- ------ 10.6/12.9 MB 5.1 MB/s eta 0:00:01\n",
      "   --------------------------------- ------ 10.8/12.9 MB 5.1 MB/s eta 0:00:01\n",
      "   ---------------------------------- ----- 11.1/12.9 MB 5.1 MB/s eta 0:00:01\n",
      "   ----------------------------------- ---- 11.3/12.9 MB 5.1 MB/s eta 0:00:01\n",
      "   ------------------------------------ --- 11.6/12.9 MB 5.1 MB/s eta 0:00:01\n",
      "   ------------------------------------ --- 11.6/12.9 MB 5.1 MB/s eta 0:00:01\n",
      "   ------------------------------------ --- 11.6/12.9 MB 5.1 MB/s eta 0:00:01\n",
      "   ------------------------------------ --- 11.6/12.9 MB 5.1 MB/s eta 0:00:01\n",
      "   ------------------------------------ --- 11.6/12.9 MB 5.1 MB/s eta 0:00:01\n",
      "   ---------------------------------------  12.8/12.9 MB 5.1 MB/s eta 0:00:01\n",
      "   ---------------------------------------- 12.9/12.9 MB 5.0 MB/s eta 0:00:00\n",
      "Installing collected packages: numpy, sigmoid_check\n",
      "  Attempting uninstall: numpy\n",
      "    Found existing installation: numpy 1.24.2\n",
      "    Uninstalling numpy-1.24.2:\n",
      "      Successfully uninstalled numpy-1.24.2\n",
      "  Attempting uninstall: sigmoid_check\n",
      "    Found existing installation: sigmoid_check 0.1.2\n",
      "    Uninstalling sigmoid_check-0.1.2:\n",
      "      Successfully uninstalled sigmoid_check-0.1.2\n",
      "Successfully installed numpy-2.1.3 sigmoid_check-0.1.3\n"
     ]
    },
    {
     "name": "stderr",
     "output_type": "stream",
     "text": [
      "ERROR: pip's dependency resolver does not currently take into account all the packages that are installed. This behaviour is the source of the following dependency conflicts.\n",
      "contourpy 1.2.0 requires numpy<2.0,>=1.20, but you have numpy 2.1.3 which is incompatible.\n",
      "matplotlib 3.8.2 requires numpy<2,>=1.21, but you have numpy 2.1.3 which is incompatible.\n",
      "pandas 2.2.0 requires numpy<2,>=1.22.4; python_version < \"3.11\", but you have numpy 2.1.3 which is incompatible.\n",
      "scipy 1.10.1 requires numpy<1.27.0,>=1.19.5, but you have numpy 2.1.3 which is incompatible.\n",
      "\n",
      "[notice] A new release of pip is available: 24.0 -> 24.3.1\n",
      "[notice] To update, run: C:\\Users\\Professional\\AppData\\Local\\Microsoft\\WindowsApps\\PythonSoftwareFoundation.Python.3.10_qbz5n2kfra8p0\\python.exe -m pip install --upgrade pip\n"
     ]
    }
   ],
   "source": [
    "!pip install sigmoid_check==0.1.3"
   ]
  },
  {
   "cell_type": "code",
   "execution_count": 6,
   "metadata": {},
   "outputs": [
    {
     "name": "stdout",
     "output_type": "stream",
     "text": [
      "✅ Great job! Exercise completed successfully.\n"
     ]
    }
   ],
   "source": [
    "# Given a list of integers `int_list`, create a NumPy array named `array_from_list`.\n",
    "@check_numpy_1\n",
    "def numpy_1(int_list):\n",
    "    # This line is mandatory and should not be removed.\n",
    "    ex_stat_init = True\n",
    "\n",
    "    # BELOW GOES YOUR CODE\n",
    "    import numpy as np\n",
    "    array_from_list = np.array(int_list)\n",
    "    # ABOVE GOES YOUR CODE\n",
    "    return {\"array_from_list\": array_from_list}\n",
    "\n",
    "numpy_1()"
   ]
  },
  {
   "cell_type": "code",
   "execution_count": 7,
   "metadata": {},
   "outputs": [
    {
     "name": "stdout",
     "output_type": "stream",
     "text": [
      "✅ Great job! Exercise completed successfully.\n"
     ]
    }
   ],
   "source": [
    "# Given two NumPy arrays `array1` and `array2` of the same shape, save their element-wise addition to `added_array`.\n",
    "@check_numpy_2\n",
    "def numpy_2(array1, array2):\n",
    "    # This line is mandatory and should not be removed.\n",
    "    ex_stat_init = True\n",
    "\n",
    "    # BELOW GOES YOUR CODE\n",
    "    import numpy as np\n",
    "    added_array = array1 + array2\n",
    "    # ABOVE GOES YOUR CODE\n",
    "    return {\"added_array\": added_array}\n",
    "\n",
    "numpy_2()"
   ]
  },
  {
   "cell_type": "code",
   "execution_count": 8,
   "metadata": {},
   "outputs": [
    {
     "name": "stdout",
     "output_type": "stream",
     "text": [
      "✅ Great job! Exercise completed successfully.\n"
     ]
    }
   ],
   "source": [
    "# Given two NumPy arrays `arrayA` and `arrayB`, calculate the element-wise subtraction of `arrayB` from `arrayA` and store the result in `subtracted_array`.\n",
    "@check_numpy_3\n",
    "def numpy_3(arrayA, arrayB):\n",
    "    # This line is mandatory and should not be removed.\n",
    "    ex_stat_init = True\n",
    "\n",
    "    # BELOW GOES YOUR CODE\n",
    "    import numpy as np\n",
    "    subtracted_array = arrayA - arrayB\n",
    "    # ABOVE GOES YOUR CODE\n",
    "    return {\"subtracted_array\": subtracted_array}\n",
    "\n",
    "numpy_3()"
   ]
  },
  {
   "cell_type": "code",
   "execution_count": 9,
   "metadata": {},
   "outputs": [
    {
     "name": "stdout",
     "output_type": "stream",
     "text": [
      "✅ Great job! Exercise completed successfully.\n"
     ]
    }
   ],
   "source": [
    "# Given two NumPy arrays `num_array1` and `num_array2` of the same shape, find their element-wise multiplication and store in `multiplied_array`.\n",
    "@check_numpy_4\n",
    "def numpy_4(num_array1, num_array2):\n",
    "    # This line is mandatory and should not be removed.\n",
    "    ex_stat_init = True\n",
    "\n",
    "    # BELOW GOES YOUR CODE\n",
    "    import numpy as np\n",
    "    multiplied_array = num_array1 * num_array2\n",
    "    # ABOVE GOES YOUR CODE\n",
    "    return {\"multiplied_array\": multiplied_array}\n",
    "\n",
    "numpy_4()"
   ]
  },
  {
   "cell_type": "code",
   "execution_count": 10,
   "metadata": {},
   "outputs": [
    {
     "name": "stdout",
     "output_type": "stream",
     "text": [
      "✅ Great job! Exercise completed successfully.\n"
     ]
    }
   ],
   "source": [
    "# Given two NumPy arrays `dividend_array` and `divisor_array` of the same shape, perform element-wise division and assign the result to `divided_array`.\n",
    "@check_numpy_5\n",
    "def numpy_5(dividend_array, divisor_array):\n",
    "    # This line is mandatory and should not be removed.\n",
    "    ex_stat_init = True\n",
    "\n",
    "    # BELOW GOES YOUR CODE\n",
    "    import numpy as np\n",
    "    divided_array = dividend_array / divisor_array\n",
    "    # ABOVE GOES YOUR CODE\n",
    "    return {\"divided_array\": divided_array}\n",
    "\n",
    "numpy_5()"
   ]
  },
  {
   "cell_type": "code",
   "execution_count": 11,
   "metadata": {},
   "outputs": [
    {
     "name": "stdout",
     "output_type": "stream",
     "text": [
      "✅ Great job! Exercise completed successfully.\n"
     ]
    }
   ],
   "source": [
    "# Given a NumPy array `base_array` and a scalar `exponent`, compute the element-wise exponentiation and store the result in `exponentiated_array`.\n",
    "@check_numpy_6\n",
    "def numpy_6(base_array, exponent):\n",
    "    # This line is mandatory and should not be removed.\n",
    "    ex_stat_init = True\n",
    "\n",
    "    # BELOW GOES YOUR CODE\n",
    "    import numpy as np\n",
    "    exponentiated_array = np.power(base_array, exponent)\n",
    "    # ABOVE GOES YOUR CODE\n",
    "    return {\"exponentiated_array\": exponentiated_array}\n",
    "\n",
    "numpy_6()"
   ]
  },
  {
   "cell_type": "code",
   "execution_count": 12,
   "metadata": {},
   "outputs": [
    {
     "name": "stdout",
     "output_type": "stream",
     "text": [
      "✅ Great job! Exercise completed successfully.\n"
     ]
    }
   ],
   "source": [
    "# Given a list of numbers `float_list`, create a NumPy array named `float_array` with a float data type.\n",
    "@check_numpy_7\n",
    "def numpy_7(float_list):\n",
    "    # This line is mandatory and should not be removed.\n",
    "    ex_stat_init = True\n",
    "\n",
    "    # BELOW GOES YOUR CODE\n",
    "    import numpy as np\n",
    "    float_array = np.array(float_list, dtype=float)\n",
    "    # ABOVE GOES YOUR CODE\n",
    "    return {\"float_array\": float_array}\n",
    "\n",
    "numpy_7()"
   ]
  },
  {
   "cell_type": "code",
   "execution_count": 13,
   "metadata": {},
   "outputs": [
    {
     "name": "stdout",
     "output_type": "stream",
     "text": [
      "✅ Great job! Exercise completed successfully.\n"
     ]
    }
   ],
   "source": [
    "# Use the list of lists `matrix_data` to create a 2-dimensional NumPy array named `matrix`.\n",
    "@check_numpy_8\n",
    "def numpy_8(matrix_data):\n",
    "    # This line is mandatory and should not be removed.\n",
    "    ex_stat_init = True\n",
    "\n",
    "    # BELOW GOES YOUR CODE\n",
    "    import numpy as np\n",
    "    matrix = np.array(matrix_data)\n",
    "    # ABOVE GOES YOUR CODE\n",
    "    return {\"matrix\": matrix}\n",
    "\n",
    "numpy_8()"
   ]
  },
  {
   "cell_type": "code",
   "execution_count": 14,
   "metadata": {},
   "outputs": [
    {
     "name": "stdout",
     "output_type": "stream",
     "text": [
      "✅ Great job! Exercise completed successfully.\n"
     ]
    }
   ],
   "source": [
    "# Given a NumPy array `original_array` and the new shape tuple `new_shape`, reshape the array and store it in `reshaped_array`.\n",
    "@check_numpy_9\n",
    "def numpy_9(original_array, new_shape):\n",
    "    # This line is mandatory and should not be removed.\n",
    "    ex_stat_init = True\n",
    "\n",
    "    # BELOW GOES YOUR CODE\n",
    "    import numpy as np\n",
    "    reshaped_array = np.reshape(original_array, new_shape)\n",
    "    # ABOVE GOES YOUR CODE\n",
    "    return {\"reshaped_array\": reshaped_array}\n",
    "\n",
    "numpy_9()"
   ]
  },
  {
   "cell_type": "code",
   "execution_count": 15,
   "metadata": {},
   "outputs": [
    {
     "name": "stdout",
     "output_type": "stream",
     "text": [
      "✅ Great job! Exercise completed successfully.\n"
     ]
    }
   ],
   "source": [
    "# Using NumPy's `arange`, generate an array named `range_array` from 0 to `end` with a step of `step`.\n",
    "@check_numpy_10\n",
    "def numpy_10(end, step):\n",
    "    # This line is mandatory and should not be removed.\n",
    "    ex_stat_init = True\n",
    "\n",
    "    # BELOW GOES YOUR CODE\n",
    "    import numpy as np\n",
    "    range_array = np.arange(0, end, step)\n",
    "    # ABOVE GOES YOUR CODE\n",
    "    return {\"range_array\": range_array}\n",
    "\n",
    "numpy_10()"
   ]
  },
  {
   "cell_type": "code",
   "execution_count": 16,
   "metadata": {},
   "outputs": [
    {
     "name": "stdout",
     "output_type": "stream",
     "text": [
      "✅ Great job! Exercise completed successfully.\n"
     ]
    }
   ],
   "source": [
    "# Use NumPy's `linspace` to create an array named `linspace_array` with `num_points` evenly spaced points between `start` and `stop`.\n",
    "@check_numpy_11\n",
    "def numpy_11(start, stop, num_points):\n",
    "    # This line is mandatory and should not be removed.\n",
    "    ex_stat_init = True\n",
    "\n",
    "    # BELOW GOES YOUR CODE\n",
    "    import numpy as np\n",
    "    linspace_array = np.linspace(start, stop, num_points)\n",
    "    # ABOVE GOES YOUR CODE\n",
    "    return {\"linspace_array\": linspace_array}\n",
    "\n",
    "numpy_11()"
   ]
  },
  {
   "cell_type": "code",
   "execution_count": 17,
   "metadata": {},
   "outputs": [
    {
     "name": "stdout",
     "output_type": "stream",
     "text": [
      "✅ Great job! Exercise completed successfully.\n"
     ]
    }
   ],
   "source": [
    "# Create a NumPy array named `zero_array` with a shape specified by `shape` filled with zeros.\n",
    "@check_numpy_12\n",
    "def numpy_12(shape):\n",
    "    # This line is mandatory and should not be removed.\n",
    "    ex_stat_init = True\n",
    "\n",
    "    # BELOW GOES YOUR CODE\n",
    "    import numpy as np\n",
    "    zero_array = np.zeros(shape)\n",
    "    # ABOVE GOES YOUR CODE\n",
    "    return {\"zero_array\": zero_array}\n",
    "\n",
    "numpy_12()"
   ]
  },
  {
   "cell_type": "code",
   "execution_count": 18,
   "metadata": {},
   "outputs": [
    {
     "name": "stdout",
     "output_type": "stream",
     "text": [
      "✅ Great job! Exercise completed successfully.\n"
     ]
    }
   ],
   "source": [
    "# Create a NumPy array named `ones_array` with a shape given by `shape` filled with ones.\n",
    "@check_numpy_13\n",
    "def numpy_13(shape):\n",
    "    # This line is mandatory and should not be removed.\n",
    "    ex_stat_init = True\n",
    "\n",
    "    # BELOW GOES YOUR CODE\n",
    "    import numpy as np\n",
    "    ones_array = np.ones(shape)\n",
    "    # ABOVE GOES YOUR CODE\n",
    "    return {\"ones_array\": ones_array}\n",
    "\n",
    "numpy_13()"
   ]
  },
  {
   "cell_type": "code",
   "execution_count": 19,
   "metadata": {},
   "outputs": [
    {
     "name": "stdout",
     "output_type": "stream",
     "text": [
      "✅ Great job! Exercise completed successfully.\n"
     ]
    }
   ],
   "source": [
    "# Given a size `n`, generate an identity matrix named `identity_matrix` of size `n x n`.\n",
    "@check_numpy_14\n",
    "def numpy_14(n):\n",
    "    # This line is mandatory and should not be removed.\n",
    "    ex_stat_init = True\n",
    "\n",
    "    # BELOW GOES YOUR CODE\n",
    "    import numpy as np\n",
    "    identity_matrix = np.eye(n)\n",
    "    # ABOVE GOES YOUR CODE\n",
    "    return {\"identity_matrix\": identity_matrix}\n",
    "\n",
    "numpy_14()"
   ]
  },
  {
   "cell_type": "code",
   "execution_count": 20,
   "metadata": {},
   "outputs": [
    {
     "name": "stdout",
     "output_type": "stream",
     "text": [
      "✅ Great job! Exercise completed successfully.\n"
     ]
    }
   ],
   "source": [
    "# Given a NumPy array `matrix_array`, extract its shape and assign it to `array_shape`.\n",
    "@check_numpy_15\n",
    "def numpy_15(matrix_array):\n",
    "    # This line is mandatory and should not be removed.\n",
    "    ex_stat_init = True\n",
    "\n",
    "    # BELOW GOES YOUR CODE\n",
    "    import numpy as np\n",
    "    array_shape = matrix_array.shape\n",
    "    # ABOVE GOES YOUR CODE\n",
    "    return {\"array_shape\": array_shape}\n",
    "\n",
    "numpy_15()"
   ]
  },
  {
   "cell_type": "code",
   "execution_count": 21,
   "metadata": {},
   "outputs": [
    {
     "name": "stdout",
     "output_type": "stream",
     "text": [
      "✅ Great job! Exercise completed successfully.\n"
     ]
    }
   ],
   "source": [
    "# Determine the number of dimensions of the NumPy array `dim_array` and store it in `num_dimensions`.\n",
    "@check_numpy_16\n",
    "def numpy_16(dim_array):\n",
    "    # This line is mandatory and should not be removed.\n",
    "    ex_stat_init = True\n",
    "\n",
    "    # BELOW GOES YOUR CODE\n",
    "    import numpy as np\n",
    "    num_dimensions = dim_array.ndim\n",
    "    # ABOVE GOES YOUR CODE\n",
    "    return {\"num_dimensions\": num_dimensions}\n",
    "\n",
    "numpy_16()"
   ]
  },
  {
   "cell_type": "code",
   "execution_count": 22,
   "metadata": {},
   "outputs": [
    {
     "name": "stdout",
     "output_type": "stream",
     "text": [
      "✅ Great job! Exercise completed successfully.\n"
     ]
    }
   ],
   "source": [
    "# Calculate the total number of elements in the NumPy array `elements_array` and store it in `total_elements`.\n",
    "@check_numpy_17\n",
    "def numpy_17(elements_array):\n",
    "    # This line is mandatory and should not be removed.\n",
    "    ex_stat_init = True\n",
    "\n",
    "    # BELOW GOES YOUR CODE\n",
    "    import numpy as np\n",
    "    total_elements = elements_array.size\n",
    "    # ABOVE GOES YOUR CODE\n",
    "    return {\"total_elements\": total_elements}\n",
    "\n",
    "numpy_17()"
   ]
  },
  {
   "cell_type": "code",
   "execution_count": 23,
   "metadata": {},
   "outputs": [
    {
     "name": "stdout",
     "output_type": "stream",
     "text": [
      "✅ Great job! Exercise completed successfully.\n"
     ]
    }
   ],
   "source": [
    "# Assign the data type of elements in the NumPy array `type_array` to the variable `element_type`.\n",
    "@check_numpy_18\n",
    "def numpy_18(type_array):\n",
    "    # This line is mandatory and should not be removed.\n",
    "    ex_stat_init = True\n",
    "\n",
    "    # BELOW GOES YOUR CODE\n",
    "    import numpy as np\n",
    "    element_type = type_array.dtype\n",
    "    # ABOVE GOES YOUR CODE\n",
    "    return {\"element_type\": element_type}\n",
    "\n",
    "numpy_18()"
   ]
  },
  {
   "cell_type": "code",
   "execution_count": 24,
   "metadata": {},
   "outputs": [
    {
     "name": "stdout",
     "output_type": "stream",
     "text": [
      "✅ Great job! Exercise completed successfully.\n"
     ]
    }
   ],
   "source": [
    "# Compute the memory size (in bytes) of each element in the array `memory_array` and assign it to `element_size`.\n",
    "@check_numpy_19\n",
    "def numpy_19(memory_array):\n",
    "    # This line is mandatory and should not be removed.\n",
    "    ex_stat_init = True\n",
    "\n",
    "    # BELOW GOES YOUR CODE\n",
    "    import numpy as np\n",
    "    element_size = memory_array.itemsize\n",
    "    # ABOVE GOES YOUR CODE\n",
    "    return {\"element_size\": element_size}\n",
    "\n",
    "numpy_19()"
   ]
  },
  {
   "cell_type": "code",
   "execution_count": 25,
   "metadata": {},
   "outputs": [
    {
     "name": "stdout",
     "output_type": "stream",
     "text": [
      "✅ Great job! Exercise completed successfully.\n"
     ]
    }
   ],
   "source": [
    "# Convert the integer NumPy array `int_array` to a float array and save it in `float_converted_array`.\n",
    "@check_numpy_20\n",
    "def numpy_20(int_array):\n",
    "    # This line is mandatory and should not be removed.\n",
    "    ex_stat_init = True\n",
    "\n",
    "    # BELOW GOES YOUR CODE\n",
    "    import numpy as np\n",
    "    float_converted_array = int_array.astype(float)\n",
    "    # ABOVE GOES YOUR CODE\n",
    "    return {\"float_converted_array\": float_converted_array}\n",
    "\n",
    "numpy_20()"
   ]
  },
  {
   "cell_type": "code",
   "execution_count": 26,
   "metadata": {},
   "outputs": [
    {
     "name": "stdout",
     "output_type": "stream",
     "text": [
      "✅ Great job! Exercise completed successfully.\n"
     ]
    }
   ],
   "source": [
    "# Given a NumPy array `access_array` and an index `index`, assign the element at that index to `selected_element`.\n",
    "@check_numpy_21\n",
    "def numpy_21(access_array, index):\n",
    "    # This line is mandatory and should not be removed.\n",
    "    ex_stat_init = True\n",
    "\n",
    "    # BELOW GOES YOUR CODE\n",
    "    import numpy as np\n",
    "    selected_element = access_array[index]\n",
    "    # ABOVE GOES YOUR CODE\n",
    "    return {\"selected_element\": selected_element}\n",
    "\n",
    "numpy_21()"
   ]
  },
  {
   "cell_type": "code",
   "execution_count": 27,
   "metadata": {},
   "outputs": [
    {
     "name": "stdout",
     "output_type": "stream",
     "text": [
      "✅ Great job! Exercise completed successfully.\n"
     ]
    }
   ],
   "source": [
    "# Given a NumPy array `slice_array`, extract a slice using `start` and `end` indices, and store it in `sliced_array`.\n",
    "@check_numpy_22\n",
    "def numpy_22(slice_array, start, end):\n",
    "    # This line is mandatory and should not be removed.\n",
    "    ex_stat_init = True\n",
    "\n",
    "    # BELOW GOES YOUR CODE\n",
    "    import numpy as np\n",
    "    sliced_array = slice_array[start:end]\n",
    "    # ABOVE GOES YOUR CODE\n",
    "    return {\"sliced_array\": sliced_array}\n",
    "\n",
    "numpy_22()"
   ]
  },
  {
   "cell_type": "code",
   "execution_count": 28,
   "metadata": {},
   "outputs": [
    {
     "name": "stdout",
     "output_type": "stream",
     "text": [
      "✅ Great job! Exercise completed successfully.\n"
     ]
    }
   ],
   "source": [
    "# Increase each element of `one_d_array` by 5 and store the result in `increased_array`.\n",
    "@check_numpy_23\n",
    "def numpy_23(one_d_array):\n",
    "    # This line is mandatory and should not be removed.\n",
    "    ex_stat_init = True\n",
    "\n",
    "    # BELOW GOES YOUR CODE\n",
    "    import numpy as np\n",
    "    increased_array = one_d_array + 5\n",
    "    # ABOVE GOES YOUR CODE\n",
    "    return {\"increased_array\": increased_array}\n",
    "\n",
    "numpy_23()"
   ]
  },
  {
   "cell_type": "code",
   "execution_count": 29,
   "metadata": {},
   "outputs": [
    {
     "name": "stdout",
     "output_type": "stream",
     "text": [
      "✅ Great job! Exercise completed successfully.\n"
     ]
    }
   ],
   "source": [
    "# Double the values in the 2D array `multi_d_array` and save it in `doubled_array`.\n",
    "@check_numpy_24\n",
    "def numpy_24(multi_d_array):\n",
    "    # This line is mandatory and should not be removed.\n",
    "    ex_stat_init = True\n",
    "\n",
    "    # BELOW GOES YOUR CODE\n",
    "    import numpy as np\n",
    "    doubled_array = multi_d_array * 2\n",
    "    # ABOVE GOES YOUR CODE\n",
    "    return {\"doubled_array\": doubled_array}\n",
    "\n",
    "numpy_24()"
   ]
  },
  {
   "cell_type": "code",
   "execution_count": 30,
   "metadata": {},
   "outputs": [
    {
     "name": "stdout",
     "output_type": "stream",
     "text": [
      "✅ Great job! Exercise completed successfully.\n"
     ]
    }
   ],
   "source": [
    "# Given a NumPy array `mask_array` and a `mask_value`, create `filtered_array` containing only the elements of `mask_array` that are greater than `mask_value`.\n",
    "@check_numpy_25\n",
    "def numpy_25(mask_array, mask_value):\n",
    "    # This line is mandatory and should not be removed.\n",
    "    ex_stat_init = True\n",
    "\n",
    "    # BELOW GOES YOUR CODE\n",
    "    import numpy as np\n",
    "    filtered_array = mask_array[mask_array > mask_value]\n",
    "    # ABOVE GOES YOUR CODE\n",
    "    return {\"filtered_array\": filtered_array}\n",
    "\n",
    "numpy_25()"
   ]
  },
  {
   "cell_type": "code",
   "execution_count": 52,
   "metadata": {},
   "outputs": [
    {
     "name": "stdout",
     "output_type": "stream",
     "text": [
      "❗ The implementation is incorrect or the exercise was not implemented.\n"
     ]
    }
   ],
   "source": [
    "# Apply masking to the 2D array `multi_mask_array` that keeps all elements greater than the 'condition_value' and store the satisfying elements in `masked_array_2d`.\n",
    "@check_numpy_26\n",
    "def numpy_26(multi_mask_array, condition_value):\n",
    "    # This line is mandatory and should not be removed.\n",
    "    ex_stat_init = True\n",
    "\n",
    "    # BELOW GOES YOUR CODE\n",
    "    import numpy as np\n",
    "    masked_array_2d = np.ma.masked_where(multi_mask_array <= condition_value, multi_mask_array)\n",
    "    # ABOVE GOES YOUR CODE\n",
    "    return {\"masked_array_2d\": masked_array_2d}\n",
    "\n",
    "numpy_26()"
   ]
  },
  {
   "cell_type": "code",
   "execution_count": 53,
   "metadata": {},
   "outputs": [
    {
     "name": "stdout",
     "output_type": "stream",
     "text": [
      "✅ Great job! Exercise completed successfully.\n"
     ]
    }
   ],
   "source": [
    "# Calculate the sum of elements for each column of a 2D array `sum_2d_array` and store it in `column_sums`.\n",
    "@check_numpy_27\n",
    "def numpy_27(sum_2d_array):\n",
    "    # This line is mandatory and should not be removed.\n",
    "    ex_stat_init = True\n",
    "\n",
    "    # BELOW GOES YOUR CODE\n",
    "    import numpy as np\n",
    "    column_sums = np.sum(sum_2d_array, axis=0)\n",
    "    # ABOVE GOES YOUR CODE\n",
    "    return {\"column_sums\": column_sums}\n",
    "\n",
    "numpy_27()"
   ]
  },
  {
   "cell_type": "code",
   "execution_count": 54,
   "metadata": {},
   "outputs": [
    {
     "name": "stdout",
     "output_type": "stream",
     "text": [
      "✅ Great job! Exercise completed successfully.\n"
     ]
    }
   ],
   "source": [
    "# Find the minimum value in the NumPy array `min_array` and assign it to `min_value`.\n",
    "@check_numpy_28\n",
    "def numpy_28(min_array):\n",
    "    # This line is mandatory and should not be removed.\n",
    "    ex_stat_init = True\n",
    "\n",
    "    # BELOW GOES YOUR CODE\n",
    "    import numpy as np\n",
    "    min_value = np.min(min_array)\n",
    "    # ABOVE GOES YOUR CODE\n",
    "    return {\"min_value\": min_value}\n",
    "\n",
    "numpy_28()"
   ]
  },
  {
   "cell_type": "code",
   "execution_count": 55,
   "metadata": {},
   "outputs": [
    {
     "name": "stdout",
     "output_type": "stream",
     "text": [
      "✅ Great job! Exercise completed successfully.\n"
     ]
    }
   ],
   "source": [
    "# Find the maximum value in the NumPy array `max_array` and assign it to `max_value`.\n",
    "@check_numpy_29\n",
    "def numpy_29(max_array):\n",
    "    # This line is mandatory and should not be removed.\n",
    "    ex_stat_init = True\n",
    "\n",
    "    # BELOW GOES YOUR CODE\n",
    "    import numpy as np\n",
    "    max_value = np.max(max_array)\n",
    "    # ABOVE GOES YOUR CODE\n",
    "    return {\"max_value\": max_value}\n",
    "\n",
    "numpy_29()"
   ]
  },
  {
   "cell_type": "code",
   "execution_count": 56,
   "metadata": {},
   "outputs": [
    {
     "name": "stdout",
     "output_type": "stream",
     "text": [
      "✅ Great job! Exercise completed successfully.\n"
     ]
    }
   ],
   "source": [
    "# Calculate the mean of `mean_array` and store it in `mean_value`.\n",
    "@check_numpy_30\n",
    "def numpy_30(mean_array):\n",
    "    # This line is mandatory and should not be removed.\n",
    "    ex_stat_init = True\n",
    "\n",
    "    # BELOW GOES YOUR CODE\n",
    "    import numpy as np\n",
    "    mean_value = np.mean(mean_array)\n",
    "    # ABOVE GOES YOUR CODE\n",
    "    return {\"mean_value\": mean_value}\n",
    "\n",
    "numpy_30()"
   ]
  },
  {
   "cell_type": "code",
   "execution_count": 57,
   "metadata": {},
   "outputs": [
    {
     "name": "stdout",
     "output_type": "stream",
     "text": [
      "✅ Great job! Exercise completed successfully.\n"
     ]
    }
   ],
   "source": [
    "# Calculate the standard deviation of the NumPy array `std_array` and assign it to `std_dev`.\n",
    "@check_numpy_31\n",
    "def numpy_31(std_array):\n",
    "    # This line is mandatory and should not be removed.\n",
    "    ex_stat_init = True\n",
    "\n",
    "    # BELOW GOES YOUR CODE\n",
    "    import numpy as np\n",
    "    std_dev = np.std(std_array)\n",
    "    # ABOVE GOES YOUR CODE\n",
    "    return {\"std_dev\": std_dev}\n",
    "\n",
    "numpy_31()"
   ]
  },
  {
   "cell_type": "code",
   "execution_count": 58,
   "metadata": {},
   "outputs": [
    {
     "name": "stdout",
     "output_type": "stream",
     "text": [
      "✅ Great job! Exercise completed successfully.\n"
     ]
    }
   ],
   "source": [
    "# Compute the square root of each element in `sqrt_array` using `np.sqrt()` and save the result in `sqrt_result`.\n",
    "@check_numpy_32\n",
    "def numpy_32(sqrt_array):\n",
    "    # This line is mandatory and should not be removed.\n",
    "    ex_stat_init = True\n",
    "\n",
    "    # BELOW GOES YOUR CODE\n",
    "    import numpy as np\n",
    "    sqrt_result = np.sqrt(sqrt_array)\n",
    "    # ABOVE GOES YOUR CODE\n",
    "    return {\"sqrt_result\": sqrt_result}\n",
    "\n",
    "numpy_32()"
   ]
  },
  {
   "cell_type": "code",
   "execution_count": 59,
   "metadata": {},
   "outputs": [
    {
     "name": "stdout",
     "output_type": "stream",
     "text": [
      "✅ Great job! Exercise completed successfully.\n"
     ]
    }
   ],
   "source": [
    "# Calculate the exponential of each element in `exp_array` with `np.exp()` and store it in `exp_result`.\n",
    "@check_numpy_33\n",
    "def numpy_33(exp_array):\n",
    "    # This line is mandatory and should not be removed.\n",
    "    ex_stat_init = True\n",
    "\n",
    "    # BELOW GOES YOUR CODE\n",
    "    import numpy as np\n",
    "    exp_result = np.exp(exp_array)\n",
    "    # ABOVE GOES YOUR CODE\n",
    "    return {\"exp_result\": exp_result}\n",
    "\n",
    "numpy_33()"
   ]
  },
  {
   "cell_type": "code",
   "execution_count": 60,
   "metadata": {},
   "outputs": [
    {
     "name": "stdout",
     "output_type": "stream",
     "text": [
      "✅ Great job! Exercise completed successfully.\n"
     ]
    }
   ],
   "source": [
    "# Compute the natural logarithm of each element in `log_array` with `np.log()` and save it in `log_result`.\n",
    "@check_numpy_34\n",
    "def numpy_34(log_array):\n",
    "    # This line is mandatory and should not be removed.\n",
    "    ex_stat_init = True\n",
    "\n",
    "    # BELOW GOES YOUR CODE\n",
    "    import numpy as np\n",
    "    log_result = np.log(log_array)\n",
    "    # ABOVE GOES YOUR CODE\n",
    "    return {\"log_result\": log_result}\n",
    "\n",
    "numpy_34()"
   ]
  },
  {
   "cell_type": "code",
   "execution_count": 61,
   "metadata": {},
   "outputs": [
    {
     "name": "stdout",
     "output_type": "stream",
     "text": [
      "✅ Great job! Exercise completed successfully.\n"
     ]
    }
   ],
   "source": [
    "# Calculate the sine of each element in `sin_array` using `np.sin()` and store the result in `sin_result`.\n",
    "@check_numpy_35\n",
    "def numpy_35(sin_array):\n",
    "    # This line is mandatory and should not be removed.\n",
    "    ex_stat_init = True\n",
    "\n",
    "    # BELOW GOES YOUR CODE\n",
    "    import numpy as np\n",
    "    sin_result = np.sin(sin_array)\n",
    "    # ABOVE GOES YOUR CODE\n",
    "    return {\"sin_result\": sin_result}\n",
    "\n",
    "numpy_35()"
   ]
  },
  {
   "cell_type": "code",
   "execution_count": 62,
   "metadata": {},
   "outputs": [
    {
     "name": "stdout",
     "output_type": "stream",
     "text": [
      "✅ Great job! Exercise completed successfully.\n"
     ]
    }
   ],
   "source": [
    "# Compute the cosine of `cos_array` with `np.cos()` and save it in `cos_result`.\n",
    "@check_numpy_36\n",
    "def numpy_36(cos_array):\n",
    "    # This line is mandatory and should not be removed.\n",
    "    ex_stat_init = True\n",
    "\n",
    "    # BELOW GOES YOUR CODE\n",
    "    import numpy as np\n",
    "    cos_result = np.cos(cos_array)\n",
    "    # ABOVE GOES YOUR CODE\n",
    "    return {\"cos_result\": cos_result}\n",
    "\n",
    "numpy_36()"
   ]
  },
  {
   "cell_type": "code",
   "execution_count": 63,
   "metadata": {},
   "outputs": [
    {
     "name": "stdout",
     "output_type": "stream",
     "text": [
      "✅ Great job! Exercise completed successfully.\n"
     ]
    }
   ],
   "source": [
    "# Calculate the tangent of each element in `tan_array` using `np.tan()` and save it in `tan_result`.\n",
    "@check_numpy_37\n",
    "def numpy_37(tan_array):\n",
    "    # This line is mandatory and should not be removed.\n",
    "    ex_stat_init = True\n",
    "\n",
    "    # BELOW GOES YOUR CODE\n",
    "    import numpy as np\n",
    "    tan_result = np.tan(tan_array)\n",
    "    # ABOVE GOES YOUR CODE\n",
    "    return {\"tan_result\": tan_result}\n",
    "\n",
    "numpy_37()"
   ]
  },
  {
   "cell_type": "code",
   "execution_count": 64,
   "metadata": {},
   "outputs": [
    {
     "name": "stdout",
     "output_type": "stream",
     "text": [
      "✅ Great job! Exercise completed successfully.\n"
     ]
    }
   ],
   "source": [
    "# Transpose the 2D array `transpose_array` using `np.transpose()` and store in `transposed_array`.\n",
    "@check_numpy_38\n",
    "def numpy_38(transpose_array):\n",
    "    # This line is mandatory and should not be removed.\n",
    "    ex_stat_init = True\n",
    "\n",
    "    # BELOW GOES YOUR CODE\n",
    "    import numpy as np\n",
    "    transposed_array = np.transpose(transpose_array)\n",
    "    # ABOVE GOES YOUR CODE\n",
    "    return {\"transposed_array\": transposed_array}\n",
    "\n",
    "numpy_38()"
   ]
  },
  {
   "cell_type": "code",
   "execution_count": 65,
   "metadata": {},
   "outputs": [
    {
     "name": "stdout",
     "output_type": "stream",
     "text": [
      "✅ Great job! Exercise completed successfully.\n"
     ]
    }
   ],
   "source": [
    "# Compute the dot product of `vector1` and `vector2` using `np.dot()` and assign the result to `dot_product_result`.\n",
    "@check_numpy_39\n",
    "def numpy_39(vector1, vector2):\n",
    "    # This line is mandatory and should not be removed.\n",
    "    ex_stat_init = True\n",
    "\n",
    "    # BELOW GOES YOUR CODE\n",
    "    import numpy as np\n",
    "    dot_product_result = np.dot(vector1, vector2)\n",
    "    # ABOVE GOES YOUR CODE\n",
    "    return {\"dot_product_result\": dot_product_result}\n",
    "\n",
    "numpy_39()"
   ]
  },
  {
   "cell_type": "code",
   "execution_count": 66,
   "metadata": {},
   "outputs": [
    {
     "name": "stdout",
     "output_type": "stream",
     "text": [
      "✅ Great job! Exercise completed successfully.\n"
     ]
    }
   ],
   "source": [
    "# Calculate the inverse of the square matrix `square_matrix` using `np.linalg.inv()` and store it in `inverse_matrix`.\n",
    "@check_numpy_40\n",
    "def numpy_40(square_matrix):\n",
    "    # This line is mandatory and should not be removed.\n",
    "    ex_stat_init = True\n",
    "\n",
    "    # BELOW GOES YOUR CODE\n",
    "    import numpy as np\n",
    "    inverse_matrix = np.linalg.inv(square_matrix)\n",
    "    # ABOVE GOES YOUR CODE\n",
    "    return {\"inverse_matrix\": inverse_matrix}\n",
    "\n",
    "numpy_40()"
   ]
  },
  {
   "cell_type": "code",
   "execution_count": 67,
   "metadata": {},
   "outputs": [
    {
     "name": "stdout",
     "output_type": "stream",
     "text": [
      "✅ Great job! Exercise completed successfully.\n"
     ]
    }
   ],
   "source": [
    "# Find the determinant of the square matrix `det_matrix` using `np.linalg.det()` and assign it to `determinant_value`.\n",
    "@check_numpy_41\n",
    "def numpy_41(det_matrix):\n",
    "    # This line is mandatory and should not be removed.\n",
    "    ex_stat_init = True\n",
    "\n",
    "    # BELOW GOES YOUR CODE\n",
    "    import numpy as np\n",
    "    determinant_value = np.linalg.det(det_matrix)\n",
    "    # ABOVE GOES YOUR CODE\n",
    "    return {\"determinant_value\": determinant_value}\n",
    "\n",
    "numpy_41()"
   ]
  },
  {
   "cell_type": "code",
   "execution_count": 68,
   "metadata": {},
   "outputs": [
    {
     "name": "stdout",
     "output_type": "stream",
     "text": [
      "✅ Great job! Exercise completed successfully.\n"
     ]
    }
   ],
   "source": [
    "# Concatenate `array_x` and `array_y` vertically using `np.concatenate()` and save the result in `concat_vertical`.\n",
    "@check_numpy_42\n",
    "def numpy_42(array_x, array_y):\n",
    "    # This line is mandatory and should not be removed.\n",
    "    ex_stat_init = True\n",
    "\n",
    "    # BELOW GOES YOUR CODE\n",
    "    import numpy as np\n",
    "    concat_vertical = np.concatenate((array_x, array_y), axis=0)\n",
    "    # ABOVE GOES YOUR CODE\n",
    "    return {\"concat_vertical\": concat_vertical}\n",
    "\n",
    "numpy_42()"
   ]
  },
  {
   "cell_type": "code",
   "execution_count": 69,
   "metadata": {},
   "outputs": [
    {
     "name": "stdout",
     "output_type": "stream",
     "text": [
      "✅ Great job! Exercise completed successfully.\n"
     ]
    }
   ],
   "source": [
    "# Stack `stack_array1` and `stack_array2` horizontally using `np.hstack()` and assign it to `stacked_horizontal`.\n",
    "@check_numpy_43\n",
    "def numpy_43(stack_array1, stack_array2):\n",
    "    # This line is mandatory and should not be removed.\n",
    "    ex_stat_init = True\n",
    "\n",
    "    # BELOW GOES YOUR CODE\n",
    "    import numpy as np\n",
    "    stacked_horizontal = np.hstack((stack_array1, stack_array2))\n",
    "    # ABOVE GOES YOUR CODE\n",
    "    return {\"stacked_horizontal\": stacked_horizontal}\n",
    "\n",
    "numpy_43()"
   ]
  },
  {
   "cell_type": "code",
   "execution_count": 70,
   "metadata": {},
   "outputs": [
    {
     "name": "stdout",
     "output_type": "stream",
     "text": [
      "✅ Great job! Exercise completed successfully.\n"
     ]
    }
   ],
   "source": [
    "# Add a scalar `scalar_value` to each element of `broadcast_array` using broadcasting and store in `broadcast_result`.\n",
    "@check_numpy_44\n",
    "def numpy_44(broadcast_array, scalar_value):\n",
    "    # This line is mandatory and should not be removed.\n",
    "    ex_stat_init = True\n",
    "\n",
    "    # BELOW GOES YOUR CODE\n",
    "    import numpy as np\n",
    "    broadcast_result = broadcast_array + scalar_value\n",
    "    # ABOVE GOES YOUR CODE\n",
    "    return {\"broadcast_result\": broadcast_result}\n",
    "\n",
    "numpy_44()"
   ]
  },
  {
   "cell_type": "code",
   "execution_count": 71,
   "metadata": {},
   "outputs": [
    {
     "name": "stdout",
     "output_type": "stream",
     "text": [
      "✅ Great job! Exercise completed successfully.\n"
     ]
    }
   ],
   "source": [
    "# Given a 1D array `small_array` and a 2D array `large_array`, utilize broadcasting to add them and store the result in `broadcast_sum`.\n",
    "@check_numpy_45\n",
    "def numpy_45(small_array, large_array):\n",
    "    # This line is mandatory and should not be removed.\n",
    "    ex_stat_init = True\n",
    "\n",
    "    # BELOW GOES YOUR CODE\n",
    "    import numpy as np\n",
    "    broadcast_sum = small_array + large_array\n",
    "    # ABOVE GOES YOUR CODE\n",
    "    return {\"broadcast_sum\": broadcast_sum}\n",
    "\n",
    "numpy_45()"
   ]
  },
  {
   "cell_type": "code",
   "execution_count": 72,
   "metadata": {},
   "outputs": [
    {
     "name": "stdout",
     "output_type": "stream",
     "text": [
      "✅ Great job! Exercise completed successfully.\n"
     ]
    }
   ],
   "source": [
    "# Subtract a scalar value `scalar_sub` from each element of `two_d_array`.\n",
    "@check_numpy_46\n",
    "def numpy_46(two_d_array, scalar_sub):\n",
    "    # This line is mandatory and should not be removed.\n",
    "    ex_stat_init = True\n",
    "\n",
    "    # BELOW GOES YOUR CODE\n",
    "    import numpy as np\n",
    "    two_d_array = two_d_array - scalar_sub\n",
    "    # ABOVE GOES YOUR CODE\n",
    "    return {\"two_d_array\": two_d_array}\n",
    "\n",
    "numpy_46()"
   ]
  },
  {
   "cell_type": "code",
   "execution_count": 73,
   "metadata": {},
   "outputs": [
    {
     "name": "stdout",
     "output_type": "stream",
     "text": [
      "✅ Great job! Exercise completed successfully.\n"
     ]
    }
   ],
   "source": [
    "# Given dimensions `dim1`, `dim2`, and `dim3`, create a 3D NumPy array named `random_int_array` containing random integers between 0 and 10.\n",
    "@check_numpy_47\n",
    "def numpy_47(dim1, dim2, dim3):\n",
    "    # This line is mandatory and should not be removed.\n",
    "    ex_stat_init = True\n",
    "\n",
    "    # BELOW GOES YOUR CODE\n",
    "    import numpy as np\n",
    "    random_int_array = np.random.randint(0, 10, (dim1, dim2, dim3))\n",
    "    # ABOVE GOES YOUR CODE\n",
    "    return {\"random_int_array\": random_int_array}\n",
    "\n",
    "numpy_47()"
   ]
  },
  {
   "cell_type": "code",
   "execution_count": 74,
   "metadata": {},
   "outputs": [
    {
     "name": "stdout",
     "output_type": "stream",
     "text": [
      "✅ Great job! Exercise completed successfully.\n"
     ]
    }
   ],
   "source": [
    "# Convert the 2D array `multi_array` into a 1D array named `flattened`.\n",
    "@check_numpy_48\n",
    "def numpy_48(multi_array):\n",
    "    # This line is mandatory and should not be removed.\n",
    "    ex_stat_init = True\n",
    "\n",
    "    # BELOW GOES YOUR CODE\n",
    "    import numpy as np\n",
    "    flattened = multi_array.flatten()\n",
    "    # ABOVE GOES YOUR CODE\n",
    "    return {\"flattened\": flattened}\n",
    "\n",
    "numpy_48()"
   ]
  },
  {
   "cell_type": "code",
   "execution_count": 75,
   "metadata": {},
   "outputs": [
    {
     "name": "stdout",
     "output_type": "stream",
     "text": [
      "✅ Great job! Exercise completed successfully.\n"
     ]
    }
   ],
   "source": [
    "# Given a NumPy array `nonzero_array`, use `np.nonzero()` to find indices of non-zero elements and assign them to `nonzero_indices`.\n",
    "@check_numpy_49\n",
    "def numpy_49(nonzero_array):\n",
    "    # This line is mandatory and should not be removed.\n",
    "    ex_stat_init = True\n",
    "\n",
    "    # BELOW GOES YOUR CODE\n",
    "    import numpy as np\n",
    "    nonzero_indices = np.nonzero(nonzero_array)\n",
    "    # ABOVE GOES YOUR CODE\n",
    "    return {\"nonzero_indices\": nonzero_indices}\n",
    "\n",
    "numpy_49()"
   ]
  },
  {
   "cell_type": "code",
   "execution_count": 76,
   "metadata": {},
   "outputs": [
    {
     "name": "stdout",
     "output_type": "stream",
     "text": [
      "✅ Great job! Exercise completed successfully.\n"
     ]
    }
   ],
   "source": [
    "# Create a diagonal matrix `diagonal_matrix` with the given 1D array `diag_elements` using `np.diag()`.\n",
    "@check_numpy_50\n",
    "def numpy_50(diag_elements):\n",
    "    # This line is mandatory and should not be removed.\n",
    "    ex_stat_init = True\n",
    "\n",
    "    # BELOW GOES YOUR CODE\n",
    "    import numpy as np\n",
    "    diagonal_matrix = np.diag(diag_elements)\n",
    "    # ABOVE GOES YOUR CODE\n",
    "    return {\"diagonal_matrix\": diagonal_matrix}\n",
    "\n",
    "numpy_50()"
   ]
  },
  {
   "cell_type": "code",
   "execution_count": 77,
   "metadata": {},
   "outputs": [
    {
     "name": "stdout",
     "output_type": "stream",
     "text": [
      "✅ Great job! Exercise completed successfully.\n"
     ]
    }
   ],
   "source": [
    "# Update values in `conditional_array` to `new_value` where the condition `np.where_condition` is satisfied, and save it in `updated_array`.\n",
    "@check_numpy_51\n",
    "def numpy_51(conditional_array, np_where_condition, new_value):\n",
    "    # This line is mandatory and should not be removed.\n",
    "    ex_stat_init = True\n",
    "\n",
    "    # BELOW GOES YOUR CODE\n",
    "    import numpy as np\n",
    "    updated_array = np.where(np_where_condition, new_value, conditional_array)\n",
    "    # ABOVE GOES YOUR CODE\n",
    "    return {\"updated_array\": updated_array}\n",
    "\n",
    "numpy_51()"
   ]
  },
  {
   "cell_type": "code",
   "execution_count": 78,
   "metadata": {},
   "outputs": [
    {
     "name": "stdout",
     "output_type": "stream",
     "text": [
      "✅ Great job! Exercise completed successfully.\n"
     ]
    }
   ],
   "source": [
    "# Given two arrays `max_array_a` and `max_array_b`, compute the element-wise maximum and store it in `element_max`.\n",
    "@check_numpy_52\n",
    "def numpy_52(max_array_a, max_array_b):\n",
    "    # This line is mandatory and should not be removed.\n",
    "    ex_stat_init = True\n",
    "\n",
    "    # BELOW GOES YOUR CODE\n",
    "    import numpy as np\n",
    "    element_max = np.maximum(max_array_a, max_array_b)\n",
    "    # ABOVE GOES YOUR CODE\n",
    "    return {\"element_max\": element_max}\n",
    "\n",
    "numpy_52()"
   ]
  },
  {
   "cell_type": "code",
   "execution_count": 79,
   "metadata": {},
   "outputs": [
    {
     "name": "stdout",
     "output_type": "stream",
     "text": [
      "✅ Great job! Exercise completed successfully.\n"
     ]
    }
   ],
   "source": [
    "# Calculate the cumulative sum of elements in `cumsum_array` and assign it to `cumulative_sum`.\n",
    "@check_numpy_53\n",
    "def numpy_53(cumsum_array):\n",
    "    # This line is mandatory and should not be removed.\n",
    "    ex_stat_init = True\n",
    "\n",
    "    # BELOW GOES YOUR CODE\n",
    "    import numpy as np\n",
    "    cumulative_sum = np.cumsum(cumsum_array)\n",
    "    # ABOVE GOES YOUR CODE\n",
    "    return {\"cumulative_sum\": cumulative_sum}\n",
    "\n",
    "numpy_53()"
   ]
  },
  {
   "cell_type": "code",
   "execution_count": 80,
   "metadata": {},
   "outputs": [
    {
     "name": "stdout",
     "output_type": "stream",
     "text": [
      "✅ Great job! Exercise completed successfully.\n"
     ]
    }
   ],
   "source": [
    "# Extract unique elements from the NumPy array `unique_array` and store them in `unique_elements`.\n",
    "@check_numpy_54\n",
    "def numpy_54(unique_array):\n",
    "    # This line is mandatory and should not be removed.\n",
    "    ex_stat_init = True\n",
    "\n",
    "    # BELOW GOES YOUR CODE\n",
    "    import numpy as np\n",
    "    unique_elements = np.unique(unique_array)\n",
    "    # ABOVE GOES YOUR CODE\n",
    "    return {\"unique_elements\": unique_elements}\n",
    "\n",
    "numpy_54()"
   ]
  },
  {
   "cell_type": "code",
   "execution_count": 81,
   "metadata": {},
   "outputs": [
    {
     "name": "stdout",
     "output_type": "stream",
     "text": [
      "✅ Great job! Exercise completed successfully.\n"
     ]
    }
   ],
   "source": [
    "# Sort the array `sort_array` in ascending order and assign it to `sorted_array`.\n",
    "@check_numpy_55\n",
    "def numpy_55(sort_array):\n",
    "    # This line is mandatory and should not be removed.\n",
    "    ex_stat_init = True\n",
    "\n",
    "    # BELOW GOES YOUR CODE\n",
    "    import numpy as np\n",
    "    sorted_array = np.sort(sort_array)\n",
    "    # ABOVE GOES YOUR CODE\n",
    "    return {\"sorted_array\": sorted_array}\n",
    "\n",
    "numpy_55()"
   ]
  },
  {
   "cell_type": "code",
   "execution_count": 82,
   "metadata": {},
   "outputs": [
    {
     "name": "stdout",
     "output_type": "stream",
     "text": [
      "✅ Great job! Exercise completed successfully.\n"
     ]
    }
   ],
   "source": [
    "# Compute the intersection of two arrays `intersect_array1` and `intersect_array2` and save it in `intersection`.\n",
    "@check_numpy_56\n",
    "def numpy_56(intersect_array1, intersect_array2):\n",
    "    # This line is mandatory and should not be removed.\n",
    "    ex_stat_init = True\n",
    "\n",
    "    # BELOW GOES YOUR CODE\n",
    "    import numpy as np\n",
    "    intersection = np.intersect1d(intersect_array1, intersect_array2)\n",
    "    # ABOVE GOES YOUR CODE\n",
    "    return {\"intersection\": intersection}\n",
    "\n",
    "numpy_56()"
   ]
  },
  {
   "cell_type": "code",
   "execution_count": 83,
   "metadata": {},
   "outputs": [
    {
     "name": "stdout",
     "output_type": "stream",
     "text": [
      "✅ Great job! Exercise completed successfully.\n"
     ]
    }
   ],
   "source": [
    "# Join `join_array1`, `join_array2`, and `join_array3` along a new axis using `np.stack()` and store it in `joined_array`.\n",
    "@check_numpy_57\n",
    "def numpy_57(join_array1, join_array2, join_array3):\n",
    "    # This line is mandatory and should not be removed.\n",
    "    ex_stat_init = True\n",
    "\n",
    "    # BELOW GOES YOUR CODE\n",
    "    import numpy as np\n",
    "    joined_array = np.stack((join_array1, join_array2, join_array3))\n",
    "    # ABOVE GOES YOUR CODE\n",
    "    return {\"joined_array\": joined_array}\n",
    "\n",
    "numpy_57()"
   ]
  },
  {
   "cell_type": "code",
   "execution_count": 84,
   "metadata": {},
   "outputs": [
    {
     "name": "stdout",
     "output_type": "stream",
     "text": [
      "✅ Great job! Exercise completed successfully.\n"
     ]
    }
   ],
   "source": [
    "# Split `split_array` into `num_splits` parts using `np.array_split()` and assign the result to `split_parts`.\n",
    "@check_numpy_58\n",
    "def numpy_58(split_array, num_splits):\n",
    "    # This line is mandatory and should not be removed.\n",
    "    ex_stat_init = True\n",
    "\n",
    "    # BELOW GOES YOUR CODE\n",
    "    import numpy as np\n",
    "    split_parts = np.array_split(split_array, num_splits)\n",
    "    # ABOVE GOES YOUR CODE\n",
    "    return {\"split_parts\": split_parts}\n",
    "\n",
    "numpy_58()"
   ]
  },
  {
   "cell_type": "code",
   "execution_count": 85,
   "metadata": {},
   "outputs": [
    {
     "name": "stdout",
     "output_type": "stream",
     "text": [
      "✅ Great job! Exercise completed successfully.\n"
     ]
    }
   ],
   "source": [
    "# Count elements in `count_array` that are greater than `threshold` and assign the count to `greater_count`.\n",
    "@check_numpy_59\n",
    "def numpy_59(count_array, threshold):\n",
    "    # This line is mandatory and should not be removed.\n",
    "    ex_stat_init = True\n",
    "\n",
    "    # BELOW GOES YOUR CODE\n",
    "    import numpy as np\n",
    "    greater_count = np.sum(count_array > threshold)\n",
    "    # ABOVE GOES YOUR CODE\n",
    "    return {\"greater_count\": greater_count}\n",
    "\n",
    "numpy_59()"
   ]
  },
  {
   "cell_type": "code",
   "execution_count": 86,
   "metadata": {},
   "outputs": [
    {
     "name": "stdout",
     "output_type": "stream",
     "text": [
      "✅ Great job! Exercise completed successfully.\n"
     ]
    }
   ],
   "source": [
    "# Rotate the 2D array `rotate_array` 90 degrees counterclockwise using `np.rot90()` and store it in `rotated_array`.\n",
    "@check_numpy_60\n",
    "def numpy_60(rotate_array):\n",
    "    # This line is mandatory and should not be removed.\n",
    "    ex_stat_init = True\n",
    "\n",
    "    # BELOW GOES YOUR CODE\n",
    "    import numpy as np\n",
    "    rotated_array = np.rot90(rotate_array)\n",
    "    # ABOVE GOES YOUR CODE\n",
    "    return {\"rotated_array\": rotated_array}\n",
    "\n",
    "numpy_60()"
   ]
  },
  {
   "cell_type": "code",
   "execution_count": 87,
   "metadata": {},
   "outputs": [
    {
     "name": "stdout",
     "output_type": "stream",
     "text": [
      "✅ Great job! Exercise completed successfully.\n"
     ]
    }
   ],
   "source": [
    "# Create an array named `random_float_array` with shape `float_shape` containing random floats between 0 and 1.\n",
    "@check_numpy_61\n",
    "def numpy_61(float_shape):\n",
    "    # This line is mandatory and should not be removed.\n",
    "    ex_stat_init = True\n",
    "\n",
    "    # BELOW GOES YOUR CODE\n",
    "    import numpy as np\n",
    "    random_float_array = np.random.rand(*float_shape)\n",
    "    # ABOVE GOES YOUR CODE\n",
    "    return {\"random_float_array\": random_float_array}\n",
    "\n",
    "numpy_61()"
   ]
  },
  {
   "cell_type": "code",
   "execution_count": 88,
   "metadata": {},
   "outputs": [
    {
     "name": "stdout",
     "output_type": "stream",
     "text": [
      "✅ Great job! Exercise completed successfully.\n"
     ]
    }
   ],
   "source": [
    "# Compute the median of `median_array` and store it in `median_value`.\n",
    "@check_numpy_62\n",
    "def numpy_62(median_array):\n",
    "    # This line is mandatory and should not be removed.\n",
    "    ex_stat_init = True\n",
    "\n",
    "    # BELOW GOES YOUR CODE\n",
    "    import numpy as np\n",
    "    median_value = np.median(median_array)\n",
    "    # ABOVE GOES YOUR CODE\n",
    "    return {\"median_value\": median_value}\n",
    "\n",
    "numpy_62()"
   ]
  },
  {
   "cell_type": "code",
   "execution_count": 90,
   "metadata": {},
   "outputs": [
    {
     "name": "stdout",
     "output_type": "stream",
     "text": [
      "✅ Great job! Exercise completed successfully.\n"
     ]
    }
   ],
   "source": [
    "# Given a complex NumPy array `complex_array`, extract its real and imaginary parts into `real_part` and `imag_part`.\n",
    "@check_numpy_63\n",
    "def numpy_63(complex_array):\n",
    "    # This line is mandatory and should not be removed.\n",
    "    ex_stat_init = True\n",
    "\n",
    "    # BELOW GOES YOUR CODE\n",
    "    import numpy as np\n",
    "    real_part = complex_array.real\n",
    "    imag_part = complex_array.imag\n",
    "    # ABOVE GOES YOUR CODE\n",
    "    return {\"real_part\": real_part, \"imag_part\": imag_part}\n",
    "\n",
    "numpy_63()"
   ]
  },
  {
   "cell_type": "code",
   "execution_count": 91,
   "metadata": {},
   "outputs": [
    {
     "name": "stdout",
     "output_type": "stream",
     "text": [
      "✅ Great job! Exercise completed successfully.\n"
     ]
    }
   ],
   "source": [
    "# Normalize the array `norm_array` to have values between 0 and 1, storing the result in `normalized_array`.\n",
    "@check_numpy_64\n",
    "def numpy_64(norm_array):\n",
    "    # This line is mandatory and should not be removed.\n",
    "    ex_stat_init = True\n",
    "\n",
    "    # BELOW GOES YOUR CODE\n",
    "    import numpy as np\n",
    "    normalized_array = (norm_array - np.min(norm_array)) / (np.max(norm_array) - np.min(norm_array))\n",
    "    # ABOVE GOES YOUR CODE\n",
    "    return {\"normalized_array\": normalized_array}\n",
    "\n",
    "numpy_64()"
   ]
  },
  {
   "cell_type": "code",
   "execution_count": 92,
   "metadata": {},
   "outputs": [
    {
     "name": "stdout",
     "output_type": "stream",
     "text": [
      "✅ Great job! Exercise completed successfully.\n"
     ]
    }
   ],
   "source": [
    "# Replace negative elements in `replace_array` with `new_value` using `np.where()` and store in `replaced_array`.\n",
    "@check_numpy_65\n",
    "def numpy_65(replace_array, new_value):\n",
    "    # This line is mandatory and should not be removed.\n",
    "    ex_stat_init = True\n",
    "\n",
    "    # BELOW GOES YOUR CODE\n",
    "    import numpy as np\n",
    "    replaced_array = np.where(replace_array < 0, new_value, replace_array)\n",
    "    # ABOVE GOES YOUR CODE\n",
    "    return {\"replaced_array\": replaced_array}\n",
    "\n",
    "numpy_65()"
   ]
  },
  {
   "cell_type": "code",
   "execution_count": 93,
   "metadata": {},
   "outputs": [
    {
     "name": "stdout",
     "output_type": "stream",
     "text": [
      "✅ Great job! Exercise completed successfully.\n"
     ]
    }
   ],
   "source": [
    "# Calculate the row-wise total sum for `axis_sum_array` and assign the output to `row_sums`.\n",
    "@check_numpy_66\n",
    "def numpy_66(axis_sum_array):\n",
    "    # This line is mandatory and should not be removed.\n",
    "    ex_stat_init = True\n",
    "\n",
    "    # BELOW GOES YOUR CODE\n",
    "    import numpy as np\n",
    "    row_sums = np.sum(axis_sum_array, axis=1)\n",
    "    # ABOVE GOES YOUR CODE\n",
    "    return {\"row_sums\": row_sums}\n",
    "\n",
    "numpy_66()"
   ]
  },
  {
   "cell_type": "code",
   "execution_count": 94,
   "metadata": {},
   "outputs": [
    {
     "name": "stdout",
     "output_type": "stream",
     "text": [
      "✅ Great job! Exercise completed successfully.\n"
     ]
    }
   ],
   "source": [
    "# Produce a matrix `random_matrix` with `matrix_shape` dimensions and random integers from 0 to 100.\n",
    "@check_numpy_67\n",
    "def numpy_67(matrix_shape):\n",
    "    # This line is mandatory and should not be removed.\n",
    "    ex_stat_init = True\n",
    "\n",
    "    # BELOW GOES YOUR CODE\n",
    "    import numpy as np\n",
    "    random_matrix = np.random.randint(0, 101, matrix_shape)\n",
    "    # ABOVE GOES YOUR CODE\n",
    "    return {\"random_matrix\": random_matrix.shape, \"random_values\": np.any((random_matrix < 0) | (random_matrix > 100))}\n",
    "\n",
    "numpy_67()"
   ]
  },
  {
   "cell_type": "code",
   "execution_count": 95,
   "metadata": {},
   "outputs": [
    {
     "name": "stdout",
     "output_type": "stream",
     "text": [
      "✅ Great job! Exercise completed successfully.\n"
     ]
    }
   ],
   "source": [
    "# Raise each element in `base_power_array` to a power specified in `exp_power_array`, element-wise, and store in `powered_array`.\n",
    "@check_numpy_68\n",
    "def numpy_68(base_power_array, exp_power_array):\n",
    "    # This line is mandatory and should not be removed.\n",
    "    ex_stat_init = True\n",
    "\n",
    "    # BELOW GOES YOUR CODE\n",
    "    import numpy as np\n",
    "    powered_array = np.power(base_power_array, exp_power_array)\n",
    "    # ABOVE GOES YOUR CODE\n",
    "    return {\"powered_array\": powered_array}\n",
    "\n",
    "numpy_68()"
   ]
  },
  {
   "cell_type": "code",
   "execution_count": 100,
   "metadata": {},
   "outputs": [
    {
     "name": "stdout",
     "output_type": "stream",
     "text": [
      "❗ The implementation is incorrect or the exercise was not implemented.\n"
     ]
    }
   ],
   "source": [
    "# Detect NaN elements within `nan_array` using `np.isnan()` and assign the position to `nan_indices`.\n",
    "@check_numpy_69\n",
    "def numpy_69(nan_array):\n",
    "    # This line is mandatory and should not be removed.\n",
    "    ex_stat_init = True\n",
    "\n",
    "    # BELOW GOES YOUR CODE\n",
    "    import numpy as np\n",
    "    nan_indices = np.argwhere(np.isnan(nan_array))\n",
    "    # ABOVE GOES YOUR CODE\n",
    "    return {\"nan_indices\": nan_indices}\n",
    "\n",
    "numpy_69()"
   ]
  },
  {
   "cell_type": "code",
   "execution_count": 101,
   "metadata": {},
   "outputs": [
    {
     "name": "stdout",
     "output_type": "stream",
     "text": [
      "✅ Great job! Exercise completed successfully.\n"
     ]
    }
   ],
   "source": [
    "# Replace `NaN` values in `nan_replace_array` with `specific_value` and create `nan_replaced_array`.\n",
    "@check_numpy_70\n",
    "def numpy_70(nan_replace_array, specific_value):\n",
    "    # This line is mandatory and should not be removed.\n",
    "    ex_stat_init = True\n",
    "\n",
    "    # BELOW GOES YOUR CODE\n",
    "    import numpy as np\n",
    "    nan_replaced_array = np.where(np.isnan(nan_replace_array), specific_value, nan_replace_array)\n",
    "    # ABOVE GOES YOUR CODE\n",
    "    return {\"nan_replaced_array\": nan_replaced_array}\n",
    "\n",
    "numpy_70()"
   ]
  },
  {
   "cell_type": "code",
   "execution_count": 102,
   "metadata": {},
   "outputs": [
    {
     "name": "stdout",
     "output_type": "stream",
     "text": [
      "✅ Great job! Exercise completed successfully.\n"
     ]
    }
   ],
   "source": [
    "# Construct an upper triangular version of `triangular_matrix` using `np.triu()`.\n",
    "@check_numpy_71\n",
    "def numpy_71(triangular_matrix):\n",
    "    # This line is mandatory and should not be removed.\n",
    "    ex_stat_init = True\n",
    "\n",
    "    # BELOW GOES YOUR CODE\n",
    "    import numpy as np\n",
    "    upper_triangular = np.triu(triangular_matrix)\n",
    "    # ABOVE GOES YOUR CODE\n",
    "    return {\"upper_triangular\": upper_triangular}\n",
    "\n",
    "numpy_71()"
   ]
  },
  {
   "cell_type": "code",
   "execution_count": 103,
   "metadata": {},
   "outputs": [
    {
     "name": "stdout",
     "output_type": "stream",
     "text": [
      "✅ Great job! Exercise completed successfully.\n"
     ]
    }
   ],
   "source": [
    "# Calculate the `percentile_value` percentile of elements in `percentile_array` and set the result to `percentile_result`.\n",
    "@check_numpy_72\n",
    "def numpy_72(percentile_array, percentile_value):\n",
    "    # This line is mandatory and should not be removed.\n",
    "    ex_stat_init = True\n",
    "\n",
    "    # BELOW GOES YOUR CODE\n",
    "    import numpy as np\n",
    "    percentile_result = np.percentile(percentile_array, percentile_value)\n",
    "    # ABOVE GOES YOUR CODE\n",
    "    return {\"percentile_result\": percentile_result}\n",
    "\n",
    "numpy_72()"
   ]
  },
  {
   "cell_type": "code",
   "execution_count": 104,
   "metadata": {},
   "outputs": [
    {
     "name": "stdout",
     "output_type": "stream",
     "text": [
      "✅ Great job! Exercise completed successfully.\n"
     ]
    }
   ],
   "source": [
    "# Calculate the trace (sum of diagonals) of the matrix `trace_matrix` using `np.trace()`.\n",
    "@check_numpy_73\n",
    "def numpy_73(trace_matrix):\n",
    "    # This line is mandatory and should not be removed.\n",
    "    ex_stat_init = True\n",
    "\n",
    "    # BELOW GOES YOUR CODE\n",
    "    import numpy as np\n",
    "    trace_value = np.trace(trace_matrix)\n",
    "    # ABOVE GOES YOUR CODE\n",
    "    return {\"trace_value\": trace_value}\n",
    "\n",
    "numpy_73()"
   ]
  },
  {
   "cell_type": "code",
   "execution_count": 105,
   "metadata": {},
   "outputs": [
    {
     "name": "stdout",
     "output_type": "stream",
     "text": [
      "✅ Great job! Exercise completed successfully.\n"
     ]
    }
   ],
   "source": [
    "# Compute the index of the maximum value in `index_max_array` and store it in `max_index`.\n",
    "@check_numpy_74\n",
    "def numpy_74(index_max_array):\n",
    "    # This line is mandatory and should not be removed.\n",
    "    ex_stat_init = True\n",
    "\n",
    "    # BELOW GOES YOUR CODE\n",
    "    import numpy as np\n",
    "    max_index = np.argmax(index_max_array)\n",
    "    # ABOVE GOES YOUR CODE\n",
    "    return {\"max_index\": max_index}\n",
    "\n",
    "numpy_74()"
   ]
  },
  {
   "cell_type": "code",
   "execution_count": 106,
   "metadata": {},
   "outputs": [
    {
     "name": "stdout",
     "output_type": "stream",
     "text": [
      "✅ Great job! Exercise completed successfully.\n"
     ]
    }
   ],
   "source": [
    "# Find the index of the minimum value in `index_min_array` and assign it to `min_index`.\n",
    "@check_numpy_75\n",
    "def numpy_75(index_min_array):\n",
    "    # This line is mandatory and should not be removed.\n",
    "    ex_stat_init = True\n",
    "\n",
    "    # BELOW GOES YOUR CODE\n",
    "    import numpy as np\n",
    "    min_index = np.argmin(index_min_array)\n",
    "    # ABOVE GOES YOUR CODE\n",
    "    return {\"min_index\": min_index}\n",
    "\n",
    "numpy_75()"
   ]
  },
  {
   "cell_type": "code",
   "execution_count": 107,
   "metadata": {},
   "outputs": [
    {
     "name": "stdout",
     "output_type": "stream",
     "text": [
      "✅ Great job! Exercise completed successfully.\n"
     ]
    }
   ],
   "source": [
    "# Perform an element-wise comparison of `compare_array1` and `compare_array2` using `np.equal()` and assign to `comparison_result`.\n",
    "@check_numpy_76\n",
    "def numpy_76(compare_array1, compare_array2):\n",
    "    # This line is mandatory and should not be removed.\n",
    "    ex_stat_init = True\n",
    "\n",
    "    # BELOW GOES YOUR CODE\n",
    "    import numpy as np\n",
    "    comparison_result = np.equal(compare_array1, compare_array2)\n",
    "    # ABOVE GOES YOUR CODE\n",
    "    return {\"comparison_result\": comparison_result}\n",
    "\n",
    "numpy_76()"
   ]
  },
  {
   "cell_type": "code",
   "execution_count": 108,
   "metadata": {},
   "outputs": [
    {
     "name": "stdout",
     "output_type": "stream",
     "text": [
      "✅ Great job! Exercise completed successfully.\n"
     ]
    }
   ],
   "source": [
    "# Perform the matrix multiplication between two arrays `mat_mult_a` and `mat_mult_b` and store the result in `matrix_product`.\n",
    "@check_numpy_77\n",
    "def numpy_77(mat_mult_a, mat_mult_b):\n",
    "    # This line is mandatory and should not be removed.\n",
    "    ex_stat_init = True\n",
    "\n",
    "    # BELOW GOES YOUR CODE\n",
    "    import numpy as np\n",
    "    matrix_product = np.dot(mat_mult_a, mat_mult_b)\n",
    "    # ABOVE GOES YOUR CODE\n",
    "    return {\"matrix_product\": matrix_product}\n",
    "\n",
    "numpy_77()"
   ]
  },
  {
   "cell_type": "code",
   "execution_count": 109,
   "metadata": {},
   "outputs": [
    {
     "name": "stdout",
     "output_type": "stream",
     "text": [
      "✅ Great job! Exercise completed successfully.\n"
     ]
    }
   ],
   "source": [
    "# Extract the diagonal of `diag_matrix` using `np.diag()` and store it in `matrix_diagonal`.\n",
    "@check_numpy_78\n",
    "def numpy_78(diag_matrix):\n",
    "    # This line is mandatory and should not be removed.\n",
    "    ex_stat_init = True\n",
    "\n",
    "    # BELOW GOES YOUR CODE\n",
    "    import numpy as np\n",
    "    matrix_diagonal = np.diag(diag_matrix)\n",
    "    # ABOVE GOES YOUR CODE\n",
    "    return {\"matrix_diagonal\": matrix_diagonal}\n",
    "\n",
    "numpy_78()"
   ]
  },
  {
   "cell_type": "code",
   "execution_count": 110,
   "metadata": {},
   "outputs": [
    {
     "name": "stdout",
     "output_type": "stream",
     "text": [
      "✅ Great job! Exercise completed successfully.\n"
     ]
    }
   ],
   "source": [
    "# Clip `clip_array` such that all its values fall between `min_clip` and `max_clip`, saving the result in `clipped_array`.\n",
    "@check_numpy_79\n",
    "def numpy_79(clip_array, min_clip, max_clip):\n",
    "    # This line is mandatory and should not be removed.\n",
    "    ex_stat_init = True\n",
    "\n",
    "    # BELOW GOES YOUR CODE\n",
    "    import numpy as np\n",
    "    clipped_array = np.clip(clip_array, min_clip, max_clip)\n",
    "    # ABOVE GOES YOUR CODE\n",
    "    return {\"clipped_array\": clipped_array}\n",
    "\n",
    "numpy_79()"
   ]
  },
  {
   "cell_type": "code",
   "execution_count": 111,
   "metadata": {},
   "outputs": [
    {
     "name": "stdout",
     "output_type": "stream",
     "text": [
      "✅ Great job! Exercise completed successfully.\n"
     ]
    }
   ],
   "source": [
    "# Flip `flip_array` along the specified axis `flip_axis` using `np.flip()` and assign to `flipped_array`.\n",
    "@check_numpy_80\n",
    "def numpy_80(flip_array, flip_axis):\n",
    "    # This line is mandatory and should not be removed.\n",
    "    ex_stat_init = True\n",
    "\n",
    "    # BELOW GOES YOUR CODE\n",
    "    import numpy as np\n",
    "    flipped_array = np.flip(flip_array, flip_axis)\n",
    "    # ABOVE GOES YOUR CODE\n",
    "    return {\"flipped_array\": flipped_array}\n",
    "\n",
    "numpy_80()"
   ]
  },
  {
   "cell_type": "code",
   "execution_count": 112,
   "metadata": {},
   "outputs": [
    {
     "name": "stdout",
     "output_type": "stream",
     "text": [
      "✅ Great job! Exercise completed successfully.\n"
     ]
    }
   ],
   "source": [
    "# Simulate rolling a six-sided die `num_rolls` times to generate an array `dice_rolls`.\n",
    "@check_numpy_81\n",
    "def numpy_81(num_rolls):\n",
    "    # This line is mandatory and should not be removed.\n",
    "    ex_stat_init = True\n",
    "\n",
    "    # BELOW GOES YOUR CODE\n",
    "    import numpy as np\n",
    "    dice_rolls = np.random.randint(1, 7, num_rolls)\n",
    "    # ABOVE GOES YOUR CODE\n",
    "    return {\"dice_rolls\": dice_rolls}\n",
    "\n",
    "numpy_81()"
   ]
  },
  {
   "cell_type": "code",
   "execution_count": 113,
   "metadata": {},
   "outputs": [
    {
     "name": "stdout",
     "output_type": "stream",
     "text": [
      "✅ Great job! Exercise completed successfully.\n"
     ]
    }
   ],
   "source": [
    "# Given two arrays `logical_array_a` and `logical_array_b`, perform a logical `and` operation and save result in `logical_and_result`.\n",
    "@check_numpy_82\n",
    "def numpy_82(logical_array_a, logical_array_b):\n",
    "    # This line is mandatory and should not be removed.\n",
    "    ex_stat_init = True\n",
    "\n",
    "    # BELOW GOES YOUR CODE\n",
    "    import numpy as np\n",
    "    logical_and_result = np.logical_and(logical_array_a, logical_array_b)\n",
    "    # ABOVE GOES YOUR CODE\n",
    "    return {\"logical_and_result\": logical_and_result}\n",
    "\n",
    "numpy_82()"
   ]
  },
  {
   "cell_type": "code",
   "execution_count": 114,
   "metadata": {},
   "outputs": [
    {
     "name": "stdout",
     "output_type": "stream",
     "text": [
      "✅ Great job! Exercise completed successfully.\n"
     ]
    }
   ],
   "source": [
    "# Reverse the elements in `reverse_array` and store the result in `reversed_array`.\n",
    "@check_numpy_83\n",
    "def numpy_83(reverse_array):\n",
    "    # This line is mandatory and should not be removed.\n",
    "    ex_stat_init = True\n",
    "\n",
    "    # BELOW GOES YOUR CODE\n",
    "    import numpy as np\n",
    "    reversed_array = np.flip(reverse_array)\n",
    "    # ABOVE GOES YOUR CODE\n",
    "    return {\"reversed_array\": reversed_array}\n",
    "\n",
    "numpy_83()"
   ]
  },
  {
   "cell_type": "code",
   "execution_count": 115,
   "metadata": {},
   "outputs": [
    {
     "name": "stdout",
     "output_type": "stream",
     "text": [
      "✅ Great job! Exercise completed successfully.\n"
     ]
    }
   ],
   "source": [
    "# Compute the cross-product of vectors `vector_a` and `vector_b` and store it in `cross_product_result`.\n",
    "@check_numpy_84\n",
    "def numpy_84(vector_a, vector_b):\n",
    "    # This line is mandatory and should not be removed.\n",
    "    ex_stat_init = True\n",
    "\n",
    "    # BELOW GOES YOUR CODE\n",
    "    import numpy as np\n",
    "    cross_product_result = np.cross(vector_a, vector_b)\n",
    "    # ABOVE GOES YOUR CODE\n",
    "    return {\"cross_product_result\": cross_product_result}\n",
    "\n",
    "numpy_84()"
   ]
  },
  {
   "cell_type": "code",
   "execution_count": 116,
   "metadata": {},
   "outputs": [
    {
     "name": "stdout",
     "output_type": "stream",
     "text": [
      "✅ Great job! Exercise completed successfully.\n"
     ]
    }
   ],
   "source": [
    "# Use `np.vstack()` to vertically stack `vert_stack_a` and `vert_stack_b` and assign to `vertically_stacked`.\n",
    "@check_numpy_85\n",
    "def numpy_85(vert_stack_a, vert_stack_b):\n",
    "    # This line is mandatory and should not be removed.\n",
    "    ex_stat_init = True\n",
    "\n",
    "    # BELOW GOES YOUR CODE\n",
    "    import numpy as np\n",
    "    vertically_stacked = np.vstack((vert_stack_a, vert_stack_b))\n",
    "    # ABOVE GOES YOUR CODE\n",
    "    return {\"vertically_stacked\": vertically_stacked}\n",
    "\n",
    "numpy_85()"
   ]
  },
  {
   "cell_type": "code",
   "execution_count": 117,
   "metadata": {},
   "outputs": [
    {
     "name": "stdout",
     "output_type": "stream",
     "text": [
      "✅ Great job! Exercise completed successfully.\n"
     ]
    }
   ],
   "source": [
    "# Create a `checkered_matrix` of size `check_size` with alternating zeros and ones.\n",
    "@check_numpy_86\n",
    "def numpy_86(check_size):\n",
    "    # This line is mandatory and should not be removed.\n",
    "    ex_stat_init = True\n",
    "\n",
    "    # BELOW GOES YOUR CODE\n",
    "    import numpy as np\n",
    "    checkered_matrix = np.zeros(check_size)\n",
    "    # ABOVE GOES YOUR CODE\n",
    "    return {\"checkered_matrix\": checkered_matrix}\n",
    "\n",
    "numpy_86()"
   ]
  },
  {
   "cell_type": "code",
   "execution_count": 118,
   "metadata": {},
   "outputs": [
    {
     "name": "stdout",
     "output_type": "stream",
     "text": [
      "✅ Great job! Exercise completed successfully.\n"
     ]
    }
   ],
   "source": [
    "# Determine the rank of `rank_matrix` using `np.linalg.matrix_rank()`.\n",
    "@check_numpy_87\n",
    "def numpy_87(rank_matrix):\n",
    "    # This line is mandatory and should not be removed.\n",
    "    ex_stat_init = True\n",
    "\n",
    "    # BELOW GOES YOUR CODE\n",
    "    import numpy as np\n",
    "    matrix_rank = np.linalg.matrix_rank(rank_matrix)\n",
    "    # ABOVE GOES YOUR CODE\n",
    "    return {\"matrix_rank\": matrix_rank}\n",
    "\n",
    "numpy_87()"
   ]
  },
  {
   "cell_type": "code",
   "execution_count": 119,
   "metadata": {},
   "outputs": [
    {
     "name": "stdout",
     "output_type": "stream",
     "text": [
      "✅ Great job! Exercise completed successfully.\n"
     ]
    }
   ],
   "source": [
    "# Extract all non-diagonal elements from `non_diag_matrix` and store them in `off_diagonal`.\n",
    "@check_numpy_88\n",
    "def numpy_88(non_diag_matrix):\n",
    "    # This line is mandatory and should not be removed.\n",
    "    ex_stat_init = True\n",
    "\n",
    "    # BELOW GOES YOUR CODE\n",
    "    import numpy as np\n",
    "    off_diagonal = non_diag_matrix[~np.eye(non_diag_matrix.shape[0], dtype=bool)]\n",
    "    # ABOVE GOES YOUR CODE\n",
    "    return {\"off_diagonal\": off_diagonal}\n",
    "\n",
    "numpy_88()"
   ]
  },
  {
   "cell_type": "code",
   "execution_count": 120,
   "metadata": {},
   "outputs": [
    {
     "name": "stdout",
     "output_type": "stream",
     "text": [
      "✅ Great job! Exercise completed successfully.\n"
     ]
    }
   ],
   "source": [
    "# Create a boolean mask `boolean_mask` for the array `mask_less_array` with elements less than `threshold_value`.\n",
    "@check_numpy_89\n",
    "def numpy_89(mask_less_array, threshold_value):\n",
    "    # This line is mandatory and should not be removed.\n",
    "    ex_stat_init = True\n",
    "\n",
    "    # BELOW GOES YOUR CODE\n",
    "    import numpy as np\n",
    "    boolean_mask = mask_less_array < threshold_value\n",
    "    # ABOVE GOES YOUR CODE\n",
    "    return {\"boolean_mask\": boolean_mask}\n",
    "\n",
    "numpy_89()"
   ]
  },
  {
   "cell_type": "code",
   "execution_count": 121,
   "metadata": {},
   "outputs": [
    {
     "name": "stdout",
     "output_type": "stream",
     "text": [
      "✅ Great job! Exercise completed successfully.\n"
     ]
    }
   ],
   "source": [
    "# Compute the cumulative product of `cumprod_array` and assign the result to `cumulative_product`.\n",
    "@check_numpy_90\n",
    "def numpy_90(cumprod_array):\n",
    "    # This line is mandatory and should not be removed.\n",
    "    ex_stat_init = True\n",
    "\n",
    "    # BELOW GOES YOUR CODE\n",
    "    import numpy as np\n",
    "    cumulative_product = np.cumprod(cumprod_array)\n",
    "    # ABOVE GOES YOUR CODE\n",
    "    return {\"cumulative_product\": cumulative_product}\n",
    "\n",
    "numpy_90()"
   ]
  },
  {
   "cell_type": "code",
   "execution_count": 122,
   "metadata": {},
   "outputs": [
    {
     "name": "stdout",
     "output_type": "stream",
     "text": [
      "✅ Great job! Exercise completed successfully.\n"
     ]
    }
   ],
   "source": [
    "# Calculate the absolute differences between `abs_diff_a1` and `abs_diff_a2`, storing the result in `absolute_diff`.\n",
    "@check_numpy_91\n",
    "def numpy_91(abs_diff_a1, abs_diff_a2):\n",
    "    # This line is mandatory and should not be removed.\n",
    "    ex_stat_init = True\n",
    "\n",
    "    # BELOW GOES YOUR CODE\n",
    "    import numpy as np\n",
    "    absolute_diff = np.abs(abs_diff_a1 - abs_diff_a2)\n",
    "    # ABOVE GOES YOUR CODE\n",
    "    return {\"absolute_diff\": absolute_diff}\n",
    "\n",
    "numpy_91()"
   ]
  },
  {
   "cell_type": "code",
   "execution_count": 123,
   "metadata": {},
   "outputs": [
    {
     "name": "stdout",
     "output_type": "stream",
     "text": [
      "✅ Great job! Exercise completed successfully.\n"
     ]
    }
   ],
   "source": [
    "# Check if `elem_equal_a` and `elem_equal_b` are element-wise equal and store the boolean result in `elementwise_equality`.\n",
    "@check_numpy_92\n",
    "def numpy_92(elem_equal_a, elem_equal_b):\n",
    "    # This line is mandatory and should not be removed.\n",
    "    ex_stat_init = True\n",
    "\n",
    "    # BELOW GOES YOUR CODE\n",
    "    import numpy as np\n",
    "    elementwise_equality = np.array_equal(elem_equal_a, elem_equal_b)\n",
    "    # ABOVE GOES YOUR CODE\n",
    "    return {\"elementwise_equality\": elementwise_equality}\n",
    "\n",
    "numpy_92()"
   ]
  },
  {
   "cell_type": "code",
   "execution_count": 124,
   "metadata": {},
   "outputs": [
    {
     "name": "stdout",
     "output_type": "stream",
     "text": [
      "✅ Great job! Exercise completed successfully.\n"
     ]
    }
   ],
   "source": [
    "# Create `filtered_within_range` by extracting values from `range_filter_array` that are between `lower_bound` and `upper_bound`.\n",
    "@check_numpy_93\n",
    "def numpy_93(range_filter_array, lower_bound, upper_bound):\n",
    "    # This line is mandatory and should not be removed.\n",
    "    ex_stat_init = True\n",
    "\n",
    "    # BELOW GOES YOUR CODE\n",
    "    import numpy as np\n",
    "    filtered_within_range = range_filter_array[(range_filter_array >= lower_bound) & (range_filter_array <= upper_bound)]\n",
    "    # ABOVE GOES YOUR CODE\n",
    "    return {\"filtered_within_range\": filtered_within_range}\n",
    "\n",
    "numpy_93()"
   ]
  },
  {
   "cell_type": "code",
   "execution_count": 125,
   "metadata": {},
   "outputs": [
    {
     "name": "stdout",
     "output_type": "stream",
     "text": [
      "✅ Great job! Exercise completed successfully.\n"
     ]
    }
   ],
   "source": [
    "# Multiply a 1D array `broad_1d` with each row of a 2D array `broad_2d`, and store the result in `broadcast_mult_result`.\n",
    "@check_numpy_94\n",
    "def numpy_94(broad_1d, broad_2d):\n",
    "    # This line is mandatory and should not be removed.\n",
    "    ex_stat_init = True\n",
    "\n",
    "    # BELOW GOES YOUR CODE\n",
    "    import numpy as np\n",
    "    broadcast_mult_result = broad_1d * broad_2d\n",
    "    # ABOVE GOES YOUR CODE\n",
    "    return {\"broadcast_mult_result\": broadcast_mult_result}\n",
    "\n",
    "numpy_94()"
   ]
  },
  {
   "cell_type": "code",
   "execution_count": 126,
   "metadata": {},
   "outputs": [
    {
     "name": "stdout",
     "output_type": "stream",
     "text": [
      "✅ Great job! Exercise completed successfully.\n"
     ]
    }
   ],
   "source": [
    "# Multiply a 1D array `broad_1d` with each row of a 2D array `broad_2d`, and store the result in `broadcast_mult_result`.\n",
    "@check_numpy_95\n",
    "def numpy_95(broad_1d, broad_2d):\n",
    "    # This line is mandatory and should not be removed.\n",
    "    ex_stat_init = True\n",
    "\n",
    "    # BELOW GOES YOUR CODE\n",
    "    import numpy as np\n",
    "    broadcast_mult_result = broad_1d * broad_2d\n",
    "    # ABOVE GOES YOUR CODE\n",
    "    return {\"broadcast_mult_result\": broadcast_mult_result}\n",
    "\n",
    "numpy_95()"
   ]
  },
  {
   "cell_type": "code",
   "execution_count": 127,
   "metadata": {},
   "outputs": [
    {
     "name": "stdout",
     "output_type": "stream",
     "text": [
      "✅ Great job! Exercise completed successfully.\n"
     ]
    }
   ],
   "source": [
    "# Apply logarithm base 10 to `log10_array` using `np.log10()` and save the result in `log10_result`.\n",
    "@check_numpy_96\n",
    "def numpy_96(log10_array):\n",
    "    # This line is mandatory and should not be removed.\n",
    "    ex_stat_init = True\n",
    "\n",
    "    # BELOW GOES YOUR CODE\n",
    "    import numpy as np\n",
    "    log10_result = np.log10(log10_array)\n",
    "    # ABOVE GOES YOUR CODE\n",
    "    return {\"log10_result\": log10_result}\n",
    "\n",
    "numpy_96()"
   ]
  },
  {
   "cell_type": "code",
   "execution_count": 128,
   "metadata": {},
   "outputs": [
    {
     "name": "stdout",
     "output_type": "stream",
     "text": [
      "✅ Great job! Exercise completed successfully.\n"
     ]
    }
   ],
   "source": [
    "# Form a lower triangular matrix from `lower_tri_matrix` using `np.tril()`.\n",
    "@check_numpy_97\n",
    "def numpy_97(lower_tri_matrix):\n",
    "    # This line is mandatory and should not be removed.\n",
    "    ex_stat_init = True\n",
    "\n",
    "    # BELOW GOES YOUR CODE\n",
    "    import numpy as np\n",
    "    lower_triangular = np.tril(lower_tri_matrix)\n",
    "    # ABOVE GOES YOUR CODE\n",
    "    return {\"lower_triangular\": lower_triangular}\n",
    "\n",
    "numpy_97()"
   ]
  },
  {
   "cell_type": "code",
   "execution_count": 129,
   "metadata": {},
   "outputs": [
    {
     "name": "stdout",
     "output_type": "stream",
     "text": [
      "✅ Great job! Exercise completed successfully.\n"
     ]
    }
   ],
   "source": [
    "# Determine if there are any `True` elements in `bool_array`, assigning the result to `any_true`.\n",
    "@check_numpy_98\n",
    "def numpy_98(bool_array):\n",
    "    # This line is mandatory and should not be removed.\n",
    "    ex_stat_init = True\n",
    "\n",
    "    # BELOW GOES YOUR CODE\n",
    "    import numpy as np\n",
    "    any_true = np.any(bool_array)\n",
    "    # ABOVE GOES YOUR CODE\n",
    "    return {\"any_true\": any_true}\n",
    "\n",
    "numpy_98()"
   ]
  },
  {
   "cell_type": "code",
   "execution_count": 130,
   "metadata": {},
   "outputs": [
    {
     "name": "stdout",
     "output_type": "stream",
     "text": [
      "✅ Great job! Exercise completed successfully.\n"
     ]
    }
   ],
   "source": [
    "# Check if all elements in `bool_check_array` are `True`, and store the result in `all_true`.\n",
    "@check_numpy_99\n",
    "def numpy_99(bool_check_array):\n",
    "    # This line is mandatory and should not be removed.\n",
    "    ex_stat_init = True\n",
    "\n",
    "    # BELOW GOES YOUR CODE\n",
    "    import numpy as np\n",
    "    all_true = np.all(bool_check_array)\n",
    "    # ABOVE GOES YOUR CODE\n",
    "    return {\"all_true\": all_true}\n",
    "\n",
    "numpy_99()"
   ]
  },
  {
   "cell_type": "code",
   "execution_count": 131,
   "metadata": {},
   "outputs": [
    {
     "name": "stdout",
     "output_type": "stream",
     "text": [
      "✅ Great job! Exercise completed successfully.\n"
     ]
    }
   ],
   "source": [
    "# Given two vectors `cos_vector_a` and `cos_vector_b`, calculate the cosine similarity and store it in `cosine_similarity`.\n",
    "@check_numpy_100\n",
    "def numpy_100(cos_vector_a, cos_vector_b):\n",
    "    # This line is mandatory and should not be removed.\n",
    "    ex_stat_init = True\n",
    "\n",
    "    # BELOW GOES YOUR CODE\n",
    "    import numpy as np\n",
    "    cosine_similarity = np.dot(cos_vector_a, cos_vector_b) / (np.linalg.norm(cos_vector_a) * np.linalg.norm(cos_vector_b))\n",
    "    # ABOVE GOES YOUR CODE\n",
    "    return {\"cosine_similarity\": cosine_similarity}\n",
    "\n",
    "numpy_100()"
   ]
  },
  {
   "cell_type": "code",
   "execution_count": 132,
   "metadata": {},
   "outputs": [
    {
     "name": "stdout",
     "output_type": "stream",
     "text": [
      "✅ Great job! Exercise completed successfully.\n"
     ]
    }
   ],
   "source": [
    "# Create a function named `reverse_sort_numpy` that takes a NumPy array `arr`, reverses it, removes duplicate elements using NumPy, and returns a sorted version of the array.\n",
    "@check_numpy_101\n",
    "def numpy_101():\n",
    "    # This line is mandatory and should not be removed.\n",
    "    ex_stat_init = True\n",
    "\n",
    "    # BELOW GOES YOUR CODE\n",
    "    import numpy as np\n",
    "    def reverse_sort_numpy(arr):\n",
    "        arr = np.flip(arr)\n",
    "        arr = np.unique(arr)\n",
    "        arr = np.sort(arr)\n",
    "        return arr\n",
    "    # ABOVE GOES YOUR CODE\n",
    "    return {\"reverse_sort_numpy\": reverse_sort_numpy}\n",
    "\n",
    "numpy_101()"
   ]
  },
  {
   "cell_type": "code",
   "execution_count": 133,
   "metadata": {},
   "outputs": [
    {
     "name": "stdout",
     "output_type": "stream",
     "text": [
      "✅ Great job! Exercise completed successfully.\n"
     ]
    }
   ],
   "source": [
    "# Write a function `normalize_scale_numpy` that takes a NumPy array `arr` and a range `min_val`, `max_val`. Use NumPy to normalize the array to the range [0, 1], then scale it to the given range, and return the resulting array.\n",
    "@check_numpy_102\n",
    "def numpy_102():\n",
    "    # This line is mandatory and should not be removed.\n",
    "    ex_stat_init = True\n",
    "\n",
    "    # BELOW GOES YOUR CODE\n",
    "    import numpy as np\n",
    "    def normalize_scale_numpy(arr, min_val, max_val):\n",
    "        arr = (arr - np.min(arr)) / (np.max(arr) - np.min(arr))\n",
    "        arr = arr * (max_val - min_val) + min_val\n",
    "        return arr\n",
    "    # ABOVE GOES YOUR CODE\n",
    "    return {\"normalize_scale_numpy\": normalize_scale_numpy}\n",
    "\n",
    "numpy_102()"
   ]
  },
  {
   "cell_type": "code",
   "execution_count": 134,
   "metadata": {},
   "outputs": [
    {
     "name": "stdout",
     "output_type": "stream",
     "text": [
      "✅ Great job! Exercise completed successfully.\n"
     ]
    }
   ],
   "source": [
    "# Develop a function `filter_average_numpy` that takes a NumPy array `data` and a threshold `limit`. Use NumPy to filter elements greater than `limit`, compute their average, and return this average.\n",
    "@check_numpy_103\n",
    "def numpy_103():\n",
    "    # This line is mandatory and should not be removed.\n",
    "    ex_stat_init = True\n",
    "\n",
    "    # BELOW GOES YOUR CODE\n",
    "    import numpy as np\n",
    "    def filter_average_numpy(data, limit):\n",
    "        filtered_data = data[data > limit]\n",
    "        average = np.mean(filtered_data)\n",
    "    # ABOVE GOES YOUR CODE\n",
    "    return {\"filter_average_numpy\": filter_average_numpy}\n",
    "\n",
    "numpy_103()"
   ]
  },
  {
   "cell_type": "code",
   "execution_count": 135,
   "metadata": {},
   "outputs": [
    {
     "name": "stdout",
     "output_type": "stream",
     "text": [
      "✅ Great job! Exercise completed successfully.\n"
     ]
    }
   ],
   "source": [
    "# Create a function `capitalize_count_numpy` that converts a NumPy array of strings `sentence_array` to capitalize each string's first letter, counts the number of elements, and returns a tuple containing the modified array and the count.\n",
    "@check_numpy_104\n",
    "def numpy_104():\n",
    "    # This line is mandatory and should not be removed.\n",
    "    ex_stat_init = True\n",
    "\n",
    "    # BELOW GOES YOUR CODE\n",
    "    import numpy as np\n",
    "    def capitalize_count_numpy(sentence_array):\n",
    "        capitalize_array = np.char.capitalize(sentence_array)\n",
    "        capitalize_count = len(capitalize_array)\n",
    "        return capitalize_array, capitalize_count\n",
    "    # ABOVE GOES YOUR CODE\n",
    "    return {\"capitalize_count_numpy\": capitalize_count_numpy}\n",
    "\n",
    "numpy_104()"
   ]
  },
  {
   "cell_type": "code",
   "execution_count": 136,
   "metadata": {},
   "outputs": [
    {
     "name": "stdout",
     "output_type": "stream",
     "text": [
      "✅ Great job! Exercise completed successfully.\n"
     ]
    }
   ],
   "source": [
    "# Implement a function `clean_categorize_numpy` that processes a NumPy array of strings `items` by stripping spaces and converting to lowercase with NumPy operations, classifying them into 'short' if under 5 characters or 'long' otherwise, returning the counts in a dictionary.\n",
    "@check_numpy_105\n",
    "def numpy_105():\n",
    "    # This line is mandatory and should not be removed.\n",
    "    ex_stat_init = True\n",
    "\n",
    "    # BELOW GOES YOUR CODE\n",
    "    import numpy as np\n",
    "    def clean_categorize_numpy(items):\n",
    "        items = np.char.lower(items)\n",
    "        items = np.char.strip(items)\n",
    "        short_count = np.sum(np.char.str_len(items) < 5)\n",
    "        long_count = np.sum(np.char.str_len(items) >= 5)\n",
    "        return {\"short\": short_count, \"long\": long_count}\n",
    "    # ABOVE GOES YOUR CODE\n",
    "    return {\"clean_categorize_numpy\": clean_categorize_numpy}\n",
    "\n",
    "numpy_105()"
   ]
  },
  {
   "cell_type": "code",
   "execution_count": 137,
   "metadata": {},
   "outputs": [
    {
     "name": "stdout",
     "output_type": "stream",
     "text": [
      "✅ Great job! Exercise completed successfully.\n"
     ]
    }
   ],
   "source": [
    "# Write a function `remove_outliers_stats_numpy` that takes a NumPy array `num_array`, removes outliers more than two standard deviations from the mean using NumPy, and returns a dictionary with 'mean', 'std', and 'filtered' keys.\n",
    "@check_numpy_106\n",
    "def numpy_106():\n",
    "    # This line is mandatory and should not be removed.\n",
    "    ex_stat_init = True\n",
    "\n",
    "    # BELOW GOES YOUR CODE\n",
    "    import numpy as np\n",
    "    def remove_outliers_stats_numpy(num_array):\n",
    "        mean = np.mean(num_array)\n",
    "        std = np.std(num_array)\n",
    "        filtered = num_array[(num_array > mean - 2 * std) & (num_array < mean + 2 * std)]\n",
    "        return {\"mean\": mean, \"std\": std, \"filtered\": filtered}\n",
    "    # ABOVE GOES YOUR CODE\n",
    "    return {\"remove_outliers_stats_numpy\": remove_outliers_stats_numpy}\n",
    "\n",
    "numpy_106()"
   ]
  },
  {
   "cell_type": "code",
   "execution_count": 138,
   "metadata": {},
   "outputs": [
    {
     "name": "stdout",
     "output_type": "stream",
     "text": [
      "✅ Great job! Exercise completed successfully.\n"
     ]
    }
   ],
   "source": [
    "# Create a function `unique_sorted_numpy` that accepts a NumPy array `word_arr`. Use NumPy to remove duplicates, sort them alphabetically, and return the sorted array.\n",
    "@check_numpy_107\n",
    "def numpy_107():\n",
    "    # This line is mandatory and should not be removed.\n",
    "    ex_stat_init = True\n",
    "\n",
    "    # BELOW GOES YOUR CODE\n",
    "    import numpy as np\n",
    "    def unique_sorted_numpy(word_arr):\n",
    "        unique_sorted_numpy = np.sort(np.unique(word_arr))\n",
    "    # ABOVE GOES YOUR CODE\n",
    "    return {\"unique_sorted_numpy\": unique_sorted_numpy}\n",
    "\n",
    "numpy_107()"
   ]
  },
  {
   "cell_type": "code",
   "execution_count": 139,
   "metadata": {},
   "outputs": [
    {
     "name": "stdout",
     "output_type": "stream",
     "text": [
      "✅ Great job! Exercise completed successfully.\n"
     ]
    }
   ],
   "source": [
    "# Implement a function `format_join_numpy` that takes a NumPy array of strings `words_array`, uses NumPy to title case each word, filter words less than 4 characters, and joins them with a hyphen, returning the final string.\n",
    "@check_numpy_108\n",
    "def numpy_108():\n",
    "    # This line is mandatory and should not be removed.\n",
    "    ex_stat_init = True\n",
    "\n",
    "    # BELOW GOES YOUR CODE\n",
    "    import numpy as np\n",
    "    def format_join_numpy(words_array):\n",
    "        words_array = np.char.title(words_array)\n",
    "        words_array = words_array[np.char.str_len(words_array) >= 4]\n",
    "        joined_words = \"-\".join(words_array)\n",
    "        return joined_words\n",
    "    # ABOVE GOES YOUR CODE\n",
    "    return {\"format_join_numpy\": format_join_numpy}\n",
    "\n",
    "numpy_108()"
   ]
  },
  {
   "cell_type": "code",
   "execution_count": 140,
   "metadata": {},
   "outputs": [
    {
     "name": "stdout",
     "output_type": "stream",
     "text": [
      "✅ Great job! Exercise completed successfully.\n"
     ]
    }
   ],
   "source": [
    "# Write a function `classify_numbers_numpy` that takes a NumPy array `nums`. Use NumPy functions to detect prime numbers and separate them from non-prime numbers, returning both as arrays.\n",
    "@check_numpy_109\n",
    "def numpy_109():\n",
    "    # This line is mandatory and should not be removed.\n",
    "    ex_stat_init = True\n",
    "\n",
    "    # BELOW GOES YOUR CODE\n",
    "    import numpy as np\n",
    "    def classify_numbers_numpy(nums):\n",
    "        def is_prime(n):\n",
    "            if n < 2:\n",
    "                return False\n",
    "            for i in range(2, int(np.sqrt(n)) + 1):\n",
    "                if n % i == 0:\n",
    "                    return False\n",
    "            return True\n",
    "\n",
    "        is_prime_vectorized = np.vectorize(is_prime)\n",
    "        prime_numbers = nums[is_prime_vectorized(nums)]\n",
    "        non_prime_numbers = nums[~is_prime_vectorized(nums)]\n",
    "        return prime_numbers, non_prime_numbers\n",
    "    # ABOVE GOES YOUR CODE\n",
    "    return {\"classify_numbers_numpy\": classify_numbers_numpy}\n",
    "\n",
    "numpy_109()"
   ]
  },
  {
   "cell_type": "code",
   "execution_count": 141,
   "metadata": {},
   "outputs": [
    {
     "name": "stdout",
     "output_type": "stream",
     "text": [
      "✅ Great job! Exercise completed successfully.\n"
     ]
    }
   ],
   "source": [
    "# Develop a function `flatten_filter_numpy` that accepts a NumPy array of arrays `list_of_arrays`, flattens it using NumPy, filters out numbers less than 10 using NumPy, and returns the filtered flat array.\n",
    "@check_numpy_110\n",
    "def numpy_110():\n",
    "    # This line is mandatory and should not be removed.\n",
    "    ex_stat_init = True\n",
    "\n",
    "    # BELOW GOES YOUR CODE\n",
    "    import numpy as np\n",
    "    def flatten_filter_numpy(list_of_arrays):\n",
    "        flat_array = np.concatenate(list_of_arrays)\n",
    "        filtered_array = flat_array[flat_array >= 10]\n",
    "        return filtered_array\n",
    "    # ABOVE GOES YOUR CODE\n",
    "    return {\"flatten_filter_numpy\": flatten_filter_numpy}\n",
    "\n",
    "numpy_110()"
   ]
  },
  {
   "cell_type": "code",
   "execution_count": 142,
   "metadata": {},
   "outputs": [
    {
     "name": "stdout",
     "output_type": "stream",
     "text": [
      "✅ Great job! Exercise completed successfully.\n"
     ]
    }
   ],
   "source": [
    "# Create a function `square_filter_negatives_numpy` that takes a NumPy array `arr`, squares each element using NumPy array operations, removes negative elements, and returns the resulting array.\n",
    "@check_numpy_111\n",
    "def numpy_111():\n",
    "    # This line is mandatory and should not be removed.\n",
    "    ex_stat_init = True\n",
    "\n",
    "    # BELOW GOES YOUR CODE\n",
    "    import numpy as np\n",
    "    def square_filter_negatives_numpy(arr):\n",
    "        arr = arr ** 2\n",
    "        arr = arr[arr >= 0]\n",
    "    # ABOVE GOES YOUR CODE\n",
    "    return {\"square_filter_negatives_numpy\": square_filter_negatives_numpy}\n",
    "\n",
    "numpy_111()"
   ]
  },
  {
   "cell_type": "code",
   "execution_count": 143,
   "metadata": {},
   "outputs": [
    {
     "name": "stdout",
     "output_type": "stream",
     "text": [
      "✅ Great job! Exercise completed successfully.\n"
     ]
    }
   ],
   "source": [
    "# Implement a function `divide_round_numpy` that takes a NumPy array `values` and a divisor `d`. Divide each element using NumPy, round to two decimal places, and return the resulting array.\n",
    "@check_numpy_112\n",
    "def numpy_112():\n",
    "    # This line is mandatory and should not be removed.\n",
    "    ex_stat_init = True\n",
    "\n",
    "    # BELOW GOES YOUR CODE\n",
    "    import numpy as np\n",
    "    def divide_round_numpy(values, d):\n",
    "        divided = np.round(values / d, 2)\n",
    "        return divided\n",
    "    # ABOVE GOES YOUR CODE\n",
    "    return {\"divide_round_numpy\": divide_round_numpy}\n",
    "\n",
    "numpy_112()"
   ]
  },
  {
   "cell_type": "code",
   "execution_count": 144,
   "metadata": {},
   "outputs": [
    {
     "name": "stdout",
     "output_type": "stream",
     "text": [
      "✅ Great job! Exercise completed successfully.\n"
     ]
    }
   ],
   "source": [
    "# Write a function `zip_sum_numpy` that takes two NumPy arrays `array1` and `array2`, adds each corresponding element (pair) using NumPy, and returns a new array of these sums.\n",
    "@check_numpy_113\n",
    "def numpy_113():\n",
    "    # This line is mandatory and should not be removed.\n",
    "    ex_stat_init = True\n",
    "\n",
    "    # BELOW GOES YOUR CODE\n",
    "    import numpy as np\n",
    "    def zip_sum_numpy(array1, array2):\n",
    "        zip_sum_numpy = array1 + array2\n",
    "    # ABOVE GOES YOUR CODE\n",
    "    return {\"zip_sum_numpy\": zip_sum_numpy}\n",
    "\n",
    "numpy_113()"
   ]
  },
  {
   "cell_type": "code",
   "execution_count": 145,
   "metadata": {},
   "outputs": [
    {
     "name": "stdout",
     "output_type": "stream",
     "text": [
      "✅ Great job! Exercise completed successfully.\n"
     ]
    }
   ],
   "source": [
    "# Create a function `binary_classification_numpy` that takes an array `classes` with values `0` and `1`. Use NumPy to count each, calculate their percentages, and return a dictionary with this data.\n",
    "@check_numpy_114\n",
    "def numpy_114():\n",
    "    # This line is mandatory and should not be removed.\n",
    "    ex_stat_init = True\n",
    "\n",
    "    # BELOW GOES YOUR CODE\n",
    "    import numpy as np\n",
    "    def binary_classification_numpy(classes):\n",
    "        unique, counts = np.unique(classes, return_counts=True)\n",
    "        class_count = dict(zip(unique, counts))\n",
    "        class_percentage = {k: v / len(classes) for k, v in class_count.items()}\n",
    "    # ABOVE GOES YOUR CODE\n",
    "    return {\"binary_classification_numpy\": binary_classification_numpy}\n",
    "\n",
    "numpy_114()"
   ]
  },
  {
   "cell_type": "code",
   "execution_count": 149,
   "metadata": {},
   "outputs": [
    {
     "name": "stdout",
     "output_type": "stream",
     "text": [
      "✅ Great job! Exercise completed successfully.\n"
     ]
    }
   ],
   "source": [
    "# Develop a function `parse_convert_dates_numpy` that processes a NumPy array of date strings `date_strs` in `MM/DD/YYYY` format, converting them into `YYYY-MM-DD` using NumPy, sorting them, and returning the sorted array.\n",
    "@check_numpy_115\n",
    "def numpy_115():\n",
    "    # This line is mandatory and should not be removed.\n",
    "    ex_stat_init = True\n",
    "\n",
    "    # BELOW GOES YOUR CODE\n",
    "    import numpy as np\n",
    "    \n",
    "    def parse_convert_dates_numpy(date_strs):\n",
    "        dates = np.array([f\"{d.split('/')[2]}-{d.split('/')[0]:0>2}-{d.split('/')[1]:0>2}\" for d in date_strs])\n",
    "        dates = np.array(dates, dtype='datetime64')\n",
    "        sorted_dates = np.sort(dates)\n",
    "        return sorted_dates.astype(str)\n",
    "    # ABOVE GOES YOUR CODE\n",
    "    return {\"parse_convert_dates_numpy\": parse_convert_dates_numpy}\n",
    "\n",
    "numpy_115()"
   ]
  },
  {
   "cell_type": "code",
   "execution_count": 150,
   "metadata": {},
   "outputs": [
    {
     "name": "stdout",
     "output_type": "stream",
     "text": [
      "✅ Great job! Exercise completed successfully.\n"
     ]
    }
   ],
   "source": [
    "# Implement a function `interleave_double_numpy` that accepts two NumPy arrays `arr1` and `arr2`. Use NumPy to interleave elements, double elements from `arr2`, and return the final array.\n",
    "@check_numpy_116\n",
    "def numpy_116():\n",
    "    # This line is mandatory and should not be removed.\n",
    "    ex_stat_init = True\n",
    "\n",
    "    # BELOW GOES YOUR CODE\n",
    "    import numpy as np\n",
    "    def interleave_double_numpy(arr1, arr2):\n",
    "        interleave_double_numpy = np.empty(arr1.size + arr2.size, dtype=arr1.dtype)\n",
    "        interleave_double_numpy[0::2] = arr1\n",
    "        interleave_double_numpy[1::2] = arr2 * 2\n",
    "    # ABOVE GOES YOUR CODE\n",
    "    return {\"interleave_double_numpy\": interleave_double_numpy}\n",
    "\n",
    "numpy_116()"
   ]
  },
  {
   "cell_type": "code",
   "execution_count": 151,
   "metadata": {},
   "outputs": [
    {
     "name": "stdout",
     "output_type": "stream",
     "text": [
      "✅ Great job! Exercise completed successfully.\n"
     ]
    }
   ],
   "source": [
    "# Write a function `group_count_numpy` that takes a NumPy array of strings `str_arr`. Use NumPy to group by length, calculate the occurrence count of each length, and return a dictionary with lengths as keys and counts as values.\n",
    "@check_numpy_117\n",
    "def numpy_117():\n",
    "    # This line is mandatory and should not be removed.\n",
    "    ex_stat_init = True\n",
    "\n",
    "    # BELOW GOES YOUR CODE\n",
    "    import numpy as np\n",
    "    def group_count_numpy(str_arr):\n",
    "        unique, counts = np.unique(np.char.str_len(str_arr), return_counts=True)\n",
    "        group_count_numpy = dict(zip(unique, counts))\n",
    "    # ABOVE GOES YOUR CODE\n",
    "    return {\"group_count_numpy\": group_count_numpy}\n",
    "\n",
    "numpy_117()"
   ]
  },
  {
   "cell_type": "code",
   "execution_count": 152,
   "metadata": {},
   "outputs": [
    {
     "name": "stdout",
     "output_type": "stream",
     "text": [
      "✅ Great job! Exercise completed successfully.\n"
     ]
    }
   ],
   "source": [
    "# Create a function `remove_false_combine_numpy` that processes two NumPy boolean arrays `bool_arr1` and `bool_arr2`. Remove `False` entries using NumPy, concatenate them, and return the combined array.\n",
    "@check_numpy_118\n",
    "def numpy_118():\n",
    "    # This line is mandatory and should not be removed.\n",
    "    ex_stat_init = True\n",
    "\n",
    "    # BELOW GOES YOUR CODE\n",
    "    import numpy as np\n",
    "    def remove_false_combine_numpy(bool_arr1, bool_arr2):\n",
    "        bool_arr1 = bool_arr1[bool_arr1]\n",
    "        bool_arr2 = bool_arr2[bool_arr2]\n",
    "        combined = np.concatenate((bool_arr1, bool_arr2))\n",
    "    # ABOVE GOES YOUR CODE\n",
    "    return {\"remove_false_combine_numpy\": remove_false_combine_numpy}\n",
    "\n",
    "numpy_118()"
   ]
  },
  {
   "cell_type": "code",
   "execution_count": 154,
   "metadata": {},
   "outputs": [
    {
     "name": "stdout",
     "output_type": "stream",
     "text": [
      "✅ Great job! Exercise completed successfully.\n"
     ]
    }
   ],
   "source": [
    "# Develop a function `check_palindrome_reverse_numpy` that takes a NumPy array of strings `strs`, uses NumPy to filter out non-alphabetic, checks for palindromes, and returns the strings in reverse order.\n",
    "@check_numpy_119\n",
    "def numpy_119():\n",
    "    # This line is mandatory and should not be removed.\n",
    "    ex_stat_init = True\n",
    "\n",
    "    # BELOW GOES YOUR CODE\n",
    "    import numpy as np\n",
    "    def check_palindrome_reverse_numpy(strs):\n",
    "        def is_palindrome(s):\n",
    "            s = s.lower()\n",
    "            s = \"\".join([c for c in s if c.isalpha()])\n",
    "            return s == s[::-1]\n",
    "\n",
    "        is_palindrome_vectorized = np.vectorize(is_palindrome)\n",
    "        palindromes = strs[is_palindrome_vectorized(strs)]\n",
    "        reversed_palindromes = np.flip(palindromes)\n",
    "        return reversed_palindromes\n",
    "    # ABOVE GOES YOUR CODE\n",
    "    return {\"check_palindrome_reverse_numpy\": check_palindrome_reverse_numpy}\n",
    "\n",
    "numpy_119()"
   ]
  },
  {
   "cell_type": "code",
   "execution_count": 155,
   "metadata": {},
   "outputs": [
    {
     "name": "stdout",
     "output_type": "stream",
     "text": [
      "✅ Great job! Exercise completed successfully.\n"
     ]
    }
   ],
   "source": [
    "# Implement a function `find_duplicates_unique_numpy` that accepts a NumPy array `elements`, identifies duplicates using NumPy, separates from unique elements, and returns a tuple of duplicate and unique arrays.\n",
    "@check_numpy_120\n",
    "def numpy_120():\n",
    "    # This line is mandatory and should not be removed.\n",
    "    ex_stat_init = True\n",
    "\n",
    "    # BELOW GOES YOUR CODE\n",
    "    import numpy as np\n",
    "    def find_duplicates_unique_numpy(elements):\n",
    "        unique, counts = np.unique(elements, return_counts=True)\n",
    "        duplicates = unique[counts > 1]\n",
    "        unique = unique[counts == 1]\n",
    "        return duplicates, unique\n",
    "    # ABOVE GOES YOUR CODE\n",
    "    return {\"find_duplicates_unique_numpy\": find_duplicates_unique_numpy}\n",
    "\n",
    "numpy_120()"
   ]
  },
  {
   "cell_type": "code",
   "execution_count": 157,
   "metadata": {},
   "outputs": [
    {
     "name": "stdout",
     "output_type": "stream",
     "text": [
      "✅ Great job! Exercise completed successfully.\n"
     ]
    }
   ],
   "source": [
    "# Write a function `scale_match_numpy` that takes two NumPy arrays `arr_a` and `arr_b`, scales each by their respective maximum with NumPy, and returns `True` if they are identical, otherwise `False`.\n",
    "@check_numpy_121\n",
    "def numpy_121():\n",
    "    # This line is mandatory and should not be removed.\n",
    "    ex_stat_init = True\n",
    "\n",
    "    # BELOW GOES YOUR CODE\n",
    "    import numpy as np\n",
    "    def scale_match_numpy(arr_a, arr_b):\n",
    "        arr_a = arr_a / np.max(arr_a)\n",
    "        arr_b = arr_b / np.max(arr_b)\n",
    "        return np.array_equal(arr_a, arr_b)\n",
    "    # ABOVE GOES YOUR CODE\n",
    "    return {\"scale_match_numpy\": scale_match_numpy}\n",
    "\n",
    "numpy_121()"
   ]
  },
  {
   "cell_type": "code",
   "execution_count": 159,
   "metadata": {},
   "outputs": [
    {
     "name": "stdout",
     "output_type": "stream",
     "text": [
      "✅ Great job! Exercise completed successfully.\n"
     ]
    }
   ],
   "source": [
    "# Create a function `calculate_ratios_sort_numpy` that takes two NumPy arrays `numers` and `denoms`. Calculate ratios using NumPy, sort them, and return a new array of sorted ratios.\n",
    "@check_numpy_122\n",
    "def numpy_122():\n",
    "    # This line is mandatory and should not be removed.\n",
    "    ex_stat_init = True\n",
    "\n",
    "    # BELOW GOES YOUR CODE\n",
    "    import numpy as np\n",
    "    def calculate_ratios_sort_numpy(numers, denoms):\n",
    "        ratios = numers / denoms\n",
    "        sorted_ratios = np.sort(ratios)\n",
    "        return sorted_ratios\n",
    "    # ABOVE GOES YOUR CODE\n",
    "    return {\"calculate_ratios_sort_numpy\": calculate_ratios_sort_numpy}\n",
    "\n",
    "numpy_122()"
   ]
  },
  {
   "cell_type": "code",
   "execution_count": 164,
   "metadata": {},
   "outputs": [
    {
     "name": "stdout",
     "output_type": "stream",
     "text": [
      "❗ The implementation is incorrect or the exercise was not implemented.\n"
     ]
    }
   ],
   "source": [
    "# Develop a function `decode_filter_numpy` that processes a NumPy array `codes`, decodes using NumPy string operations, filters messages containing digits, and returns the cleaned array.\n",
    "@check_numpy_123\n",
    "def numpy_123():\n",
    "    # This line is mandatory and should not be removed.\n",
    "    ex_stat_init = True\n",
    "\n",
    "    # BELOW GOES YOUR CODE\n",
    "    import numpy as np\n",
    "    def decode_filter_numpy(codes):\n",
    "        def has_digit(s):\n",
    "            return any(c.isdigit() for c in s)\n",
    "        has_digit_vectorized = np.vectorize(has_digit)\n",
    "        decoded = np.char.decode(codes)\n",
    "        cleaned = decoded[~has_digit_vectorized(decoded)]\n",
    "        return cleaned\n",
    "    # ABOVE GOES YOUR CODE\n",
    "    return {\"decode_filter_numpy\": decode_filter_numpy}\n",
    "\n",
    "numpy_123()"
   ]
  },
  {
   "cell_type": "code",
   "execution_count": 165,
   "metadata": {},
   "outputs": [
    {
     "name": "stdout",
     "output_type": "stream",
     "text": [
      "✅ Great job! Exercise completed successfully.\n"
     ]
    }
   ],
   "source": [
    "# Implement a function `sync_sum_json_numpy` that takes two JSON-like dictionaries `data1` and `data2`, synchronizes with NumPy by common keys, sums values, and returns the resulting dictionary.\n",
    "@check_numpy_124\n",
    "def numpy_124():\n",
    "    # This line is mandatory and should not be removed.\n",
    "    ex_stat_init = True\n",
    "\n",
    "    # BELOW GOES YOUR CODE\n",
    "    import numpy as np\n",
    "    def sync_sum_json_numpy(data1, data2):\n",
    "        keys1, keys2 = data1.keys(), data2.keys()\n",
    "        common_keys = np.intersect1d(keys1, keys2)\n",
    "        result = {k: data1[k] + data2[k] for k in common_keys}\n",
    "        return result\n",
    "    # ABOVE GOES YOUR CODE\n",
    "    return {\"sync_sum_json_numpy\": sync_sum_json_numpy}\n",
    "\n",
    "numpy_124()"
   ]
  },
  {
   "cell_type": "code",
   "execution_count": 166,
   "metadata": {},
   "outputs": [
    {
     "name": "stdout",
     "output_type": "stream",
     "text": [
      "✅ Great job! Exercise completed successfully.\n"
     ]
    }
   ],
   "source": [
    "# Write a function `tokenize_compare_numpy` that takes two NumPy string arrays `para1` and `para2`, tokenizes using NumPy, calculates the set difference with NumPy, and returns a list of unique words in one array.\n",
    "@check_numpy_125\n",
    "def numpy_125():\n",
    "    # This line is mandatory and should not be removed.\n",
    "    ex_stat_init = True\n",
    "\n",
    "    # BELOW GOES YOUR CODE\n",
    "    import numpy as np\n",
    "    def tokenize_compare_numpy(para1, para2):\n",
    "        words1 = np.unique(np.char.split(para1))\n",
    "        words2 = np.unique(np.char.split(para2))\n",
    "        unique_words = np.setdiff1d(words1, words2)\n",
    "        return unique_words\n",
    "    # ABOVE GOES YOUR CODE\n",
    "    return {\"tokenize_compare_numpy\": tokenize_compare_numpy}\n",
    "\n",
    "numpy_125()"
   ]
  }
 ],
 "metadata": {
  "kernelspec": {
   "display_name": "excalibur",
   "language": "python",
   "name": "python3"
  },
  "language_info": {
   "codemirror_mode": {
    "name": "ipython",
    "version": 3
   },
   "file_extension": ".py",
   "mimetype": "text/x-python",
   "name": "python",
   "nbconvert_exporter": "python",
   "pygments_lexer": "ipython3",
   "version": "3.10.11"
  }
 },
 "nbformat": 4,
 "nbformat_minor": 2
}
